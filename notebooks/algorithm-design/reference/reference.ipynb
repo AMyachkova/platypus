{
 "cells": [
  {
   "attachments": {},
   "cell_type": "markdown",
   "metadata": {},
   "source": [
    "## Reference states\n",
    "\n",
    "In this lesson, we'll explore how we can initialize our system with a *reference state* to help our variational algorithm converge faster. First, we'll learn how to construct a reference state by hand, and then explore several standard options that can be used in a variational algorithm.\n",
    "\n",
    "![Reference States](reference_states.png)"
   ]
  },
  {
   "attachments": {},
   "cell_type": "markdown",
   "metadata": {},
   "source": [
    "## Default state\n",
    "\n",
    "A *reference state* $|\\rho\\rangle$ refers to the initial, fixed start for our problem. To prepare a reference state, we will need to apply the appropriate unitary $U_R$ at the start of our quantum circuit, such that $|\\rho\\rangle = U_R |0\\rangle$. If you have an educated guess or datapoint from an existing optimal solution, the variational algorithm will likely converge faster if you start with that _initial state_.\n",
    "\n",
    "The simplest possible reference state is the _default state_, where we use the starting state of an $n$-qubit quantum circuit: $|0\\rangle^{\\otimes n}$. For the default state, our unitary operator $U_R \\equiv I$. Due to its simplicity, the default state is a valid reference state used in many scenarios."
   ]
  },
  {
   "attachments": {},
   "cell_type": "markdown",
   "metadata": {},
   "source": [
    "## Classical reference state\n",
    "\n",
    "Imagine that you have a $3$-qubit system and you want to start in the state $|001\\rangle$ instead of $|000\\rangle$. This is a purely classical reference state and, in order to build it, you simply need to apply an [X gate](https://qiskit.org/documentation/stubs/qiskit.circuit.library.XGate.html) to qubit $0$ (following Qiskit's qubit ordering), since $|001\\rangle=X_0|000\\rangle$. \n",
    "\n",
    "In this case, our unitary operator $U_R \\equiv X_0$, and leads to the reference state $|\\rho\\rangle \\equiv |001\\rangle$."
   ]
  },
  {
   "cell_type": "code",
   "execution_count": null,
   "metadata": {},
   "outputs": [],
   "source": [
    "from qiskit import QuantumCircuit\n",
    "from qiskit.quantum_info import Statevector\n",
    "\n",
    "qc = QuantumCircuit(3)\n",
    "qc.x(0)\n",
    "\n",
    "print(Statevector(qc))\n",
    "qc.draw(\"mpl\")"
   ]
  },
  {
   "attachments": {},
   "cell_type": "markdown",
   "metadata": {},
   "source": [
    "## Quantum reference state\n",
    "\n",
    "Now imagine that you want to start with a more complicated state with some superposition and/or entanglement, like $\\frac{1}{\\sqrt{2}}(|100\\rangle+|111\\rangle)$. \n",
    "\n",
    "One way to get this state from $|000\\rangle$ is to apply a [Hadamard gate](https://qiskit.org/documentation/stubs/qiskit.circuit.library.HGate.html) to qubit $0$ ($H_0$), a [CNOT (CX)](https://qiskit.org/documentation/stubs/qiskit.circuit.library.CXGate.html) whose control qubit is qubit $0$ and whose target qubit is qubit $1$ ($CNOT_{01}$) and finally an $X$ gate acting on qubit $2$ ($X_2$). \n",
    "\n",
    "In this case, our unitary is $U_{R} \\equiv X_2CNOT_{01}H_0|000\\rangle$, and our reference state $|\\rho\\rangle \\equiv \\frac{1}{\\sqrt{2}}(|100\\rangle+|111\\rangle)$ "
   ]
  },
  {
   "cell_type": "code",
   "execution_count": null,
   "metadata": {},
   "outputs": [],
   "source": [
    "qc = QuantumCircuit(3)\n",
    "qc.h(0)\n",
    "qc.cx(0,1)\n",
    "qc.x(2)\n",
    "\n",
    "print(Statevector(qc))\n",
    "qc.draw(\"mpl\")"
   ]
  },
  {
   "attachments": {},
   "cell_type": "markdown",
   "metadata": {},
   "source": [
    "## Application-specific reference states"
   ]
  },
  {
   "attachments": {},
   "cell_type": "markdown",
   "metadata": {},
   "source": [
    "### Quantum Chemistry\n",
    "\n",
    "In Quantum Chemistry, the _Hartree-Fock_ state is an approximation of the ground state of an atom or molecule. If our goal was to create a variational algorithm to find the exact ground state, this known classical approximation can be encoded as a reference state to help our algorithm converge faster. In this example, we generate an Electronic Structure Problem for $H_{2}$, and use the problem's `num_spatial_orbitals`, `num_particles` to create our initial state."
   ]
  },
  {
   "cell_type": "code",
   "execution_count": null,
   "metadata": {},
   "outputs": [],
   "source": [
    "from qiskit_nature.units import DistanceUnit\n",
    "from qiskit_nature.second_q.drivers import PySCFDriver\n",
    "from qiskit_nature.second_q.circuit.library import HartreeFock\n",
    "from qiskit_nature.second_q.mappers import JordanWignerMapper, QubitConverter\n",
    "\n",
    "driver = PySCFDriver(\n",
    "    atom=\"H 0 0 0; H 0 0 0.735\",\n",
    "    basis=\"sto3g\",\n",
    "    charge=0,\n",
    "    spin=0,\n",
    "    unit=DistanceUnit.ANGSTROM,\n",
    ")\n",
    "\n",
    "h2_problem = driver.run()\n",
    "\n",
    "converter = QubitConverter(JordanWignerMapper())\n",
    "\n",
    "h2_reference_state = HartreeFock(\n",
    "    h2_problem.num_spatial_orbitals,\n",
    "    h2_problem.num_particles,\n",
    "    converter\n",
    ")\n",
    "\n",
    "h2_reference_state.decompose().draw('mpl')"
   ]
  },
  {
   "attachments": {},
   "cell_type": "markdown",
   "metadata": {},
   "source": [
    "### Quantum Machine Learning\n",
    "\n",
    "In a [variational quantum classifier (VQC)](https://learn.qiskit.org/course/machine-learning/variational-classification), training data is encoded into a quantum state with a parameterized circuit called _feature map_, where each value of the parameters represents a data point from the training dataset. An example of this kind of circuits is Qiskit's [ZFeatureMap](https://qiskit.org/documentation/stubs/qiskit.circuit.library.ZFeatureMap.html)"
   ]
  },
  {
   "cell_type": "code",
   "execution_count": null,
   "metadata": {},
   "outputs": [],
   "source": [
    "from qiskit.circuit.library import ZFeatureMap\n",
    "\n",
    "z_feature_map_reference = ZFeatureMap(3, reps=3, insert_barriers=True)\n",
    "z_feature_map_reference.decompose().draw('mpl')"
   ]
  },
  {
   "attachments": {},
   "cell_type": "markdown",
   "metadata": {},
   "source": [
    "With this lesson, you learned how to initialize your system using:\n",
    "\n",
    "- Default reference state\n",
    "- Classical reference states\n",
    "- Quantum reference states\n",
    "- Application-specific reference states\n",
    "\n",
    "Our high-level variational circuit looks as follows:\n",
    "\n",
    "![Reference State Circuit](circuit_reference_state.png)\n",
    "\n",
    "While reference states are fixed, initial starting points, we can use an *ansatz* to define a *variational form* to represent a collection of parametrized states for our variational algorithm to explore."
   ]
  }
 ],
 "metadata": {
  "kernelspec": {
   "display_name": "Python 3",
   "language": "python",
   "name": "python3"
  },
  "language_info": {
   "codemirror_mode": {
    "name": "ipython",
    "version": 3
   },
   "file_extension": ".py",
   "mimetype": "text/x-python",
   "name": "python",
   "nbconvert_exporter": "python",
   "pygments_lexer": "ipython3",
   "version": "3.9.6"
  }
 },
 "nbformat": 4,
 "nbformat_minor": 2
}
