{
 "cells": [
  {
   "cell_type": "markdown",
   "id": "610a191b",
   "metadata": {},
   "source": [
    "## Problem 2\n",
    "\n",
    "Sometimes a quantum circuit can be simplified. One way of achieving this is by cancelling some quantum gates. Could you simplify the following circuit?"
   ]
  },
  {
   "cell_type": "code",
   "execution_count": null,
   "id": "790d2fba",
   "metadata": {},
   "outputs": [],
   "source": [
    "from qiskit import QuantumCircuit, Aer, transpile\n",
    "from qiskit.visualization import plot_histogram\n",
    "\n",
    "# Start your work here.\n",
    "# We've provided the circuit that is shown above\n",
    "# Your circuit MUST be named qc\n",
    "# Remove all barriers before submitting for grading\n",
    "\n",
    "qc = QuantumCircuit(3)\n",
    "\n",
    "qc.h(0)\n",
    "qc.h(2)\n",
    "qc.cx(0, 1)\n",
    "qc.barrier(0, 1, 2)\n",
    "qc.cx(2, 1)\n",
    "qc.x(2)\n",
    "qc.cx(2, 0)\n",
    "qc.x(2)\n",
    "qc.barrier(0, 1, 2)\n",
    "qc.swap(0, 1)\n",
    "qc.x(1)\n",
    "qc.cx(2, 1)\n",
    "qc.x(0)\n",
    "qc.x(2)\n",
    "qc.cx(2, 0)\n",
    "qc.x(2)\n",
    "\n",
    "# Execute the circuit and draw the histogram\n",
    "\n",
    "measured_qc = qc.measure_all(inplace=False)\n",
    "backend = Aer.get_backend('qasm_simulator') # the device to run on\n",
    "result = backend.run(transpile(measured_qc, backend), shots=1024).result()\n",
    "counts  = result.get_counts(measured_qc)\n",
    "plot_histogram(counts)"
   ]
  }
 ],
 "metadata": {
  "kernelspec": {
   "display_name": "Python 3",
   "language": "python",
   "name": "python3"
  },
  "language_info": {
   "codemirror_mode": {
    "name": "ipython",
    "version": 3
   },
   "file_extension": ".py",
   "mimetype": "text/x-python",
   "name": "python",
   "nbconvert_exporter": "python",
   "pygments_lexer": "ipython3",
   "version": "3.9"
  }
 },
 "nbformat": 4,
 "nbformat_minor": 5
}
