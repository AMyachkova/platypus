{
 "cells": [
  {
   "cell_type": "markdown",
   "metadata": {},
   "source": [
    "## Examples and applications"
   ]
  },
  {
   "attachments": {},
   "cell_type": "markdown",
   "metadata": {},
   "source": [
    "Now that we have gone through an overview of the all the parts that make up a variational algorithm and some instances, it is time to put them into practice.\n",
    "\n",
    "Imagine that we want to use a variational algorithm to find the eigenvalues and eigenstates of the following observables:\n",
    "\n",
    "$$\n",
    "\\hat{O}_1 = \n",
    "\\begin{pmatrix} \n",
    "-1 & 0 & 0 & -5 \\\\\n",
    "0 & 5 & 1 & 0 \\\\\n",
    "0 & 1 & 5 & 0 \\\\\n",
    "-5 & 0 & 0 & -1 \\\\\n",
    "\\end{pmatrix} = 2 II - 2 XX + 3 YY - 3 ZZ,\n",
    "$$\n",
    "\n",
    "with eigenvalues\n",
    "\n",
    "$$\n",
    "\\left\\{\n",
    "\\begin{array}{c}\n",
    "\\lambda_0 = -6 \\\\\n",
    "\\lambda_1 = 4 \\\\\n",
    "\\lambda_2 = 4 \\\\\n",
    "\\lambda_3 = 6\n",
    "\\end{array}\n",
    "\\right\\},\n",
    "$$\n",
    "\n",
    "and eigenstates\n",
    "\n",
    "$$\n",
    "\\left\\{\n",
    "\\begin{array}{c}\n",
    "|\\phi_0\\rangle = \\frac{1}{\\sqrt{2}}(|00\\rangle + |11\\rangle)\\\\\n",
    "|\\phi_1\\rangle = \\frac{1}{\\sqrt{2}}(|00\\rangle - |11\\rangle)\\\\\n",
    "|\\phi_2\\rangle = \\frac{1}{\\sqrt{2}}(|01\\rangle - |10\\rangle)\\\\\n",
    "|\\phi_3\\rangle = \\frac{1}{\\sqrt{2}}(|01\\rangle + |10\\rangle)\n",
    "\\end{array}\n",
    "\\right\\};\n",
    "$$"
   ]
  },
  {
   "cell_type": "code",
   "execution_count": 1,
   "metadata": {},
   "outputs": [],
   "source": [
    "from qiskit.quantum_info import SparsePauliOp\n",
    "\n",
    "observable_1 = SparsePauliOp.from_list([\n",
    "    (\"II\", 2),\n",
    "    (\"XX\", -2),\n",
    "    (\"YY\", 3),\n",
    "    (\"ZZ\", -3)\n",
    "])"
   ]
  },
  {
   "attachments": {},
   "cell_type": "markdown",
   "metadata": {},
   "source": [
    "and\n",
    "\n",
    "$$\n",
    "\\hat{O}_2 = \n",
    "\\begin{pmatrix} \n",
    "-2 & 0 & 0 & -5 \\\\\n",
    "0 & 6 & -1 & 0 \\\\\n",
    "0 & -1 & 6 & 0 \\\\\n",
    "-5 & 0 & 0 & -2 \\\\\n",
    "\\end{pmatrix} = 2 II - 3 XX + 2 YY - 4 ZZ ,\n",
    "$$\n",
    "\n",
    "with eigenvalues\n",
    "\n",
    "$$\n",
    "\\left\\{\n",
    "\\begin{array}{c}\n",
    "\\lambda_0 = -7 \\\\\n",
    "\\lambda_1 = 3\\\\\n",
    "\\lambda_2 = 5 \\\\\n",
    "\\lambda_3 = 7\n",
    "\\end{array}\n",
    "\\right\\},\n",
    "$$\n",
    "\n",
    "and eigenstates\n",
    "\n",
    "$$\n",
    "\\left\\{\n",
    "\\begin{array}{c}\n",
    "|\\phi_0\\rangle = \\frac{1}{\\sqrt{2}}(|00\\rangle + |11\\rangle)\\\\\n",
    "|\\phi_1\\rangle = \\frac{1}{\\sqrt{2}}(|00\\rangle - |11\\rangle)\\\\\n",
    "|\\phi_2\\rangle = \\frac{1}{\\sqrt{2}}(|01\\rangle + |10\\rangle)\\\\\n",
    "|\\phi_3\\rangle = \\frac{1}{\\sqrt{2}}(|01\\rangle - |10\\rangle)\n",
    "\\end{array}\n",
    "\\right\\}.\n",
    "$$"
   ]
  },
  {
   "cell_type": "code",
   "execution_count": 2,
   "metadata": {},
   "outputs": [],
   "source": [
    "observable_2 = SparsePauliOp.from_list([\n",
    "    (\"II\", 2),\n",
    "    (\"XX\", -3),\n",
    "    (\"YY\", 2),\n",
    "    (\"ZZ\", -4)\n",
    "])"
   ]
  },
  {
   "cell_type": "markdown",
   "metadata": {},
   "source": [
    "For these examples we will use the following ansatz:"
   ]
  },
  {
   "cell_type": "code",
   "execution_count": 3,
   "metadata": {},
   "outputs": [
    {
     "data": {
      "image/png": "[encoded data removed]",
      "text/plain": [
       "<Figure size 538.128x200.667 with 1 Axes>"
      ]
     },
     "execution_count": 3,
     "metadata": {},
     "output_type": "execute_result"
    }
   ],
   "source": [
    "from qiskit.circuit.library import TwoLocal\n",
    "\n",
    "ansatz = TwoLocal(2, rotation_blocks=['rz', 'ry'], entanglement_blocks='cx', entanglement='linear', reps=1)\n",
    "\n",
    "ansatz.decompose().draw(\"mpl\")"
   ]
  },
  {
   "attachments": {},
   "cell_type": "markdown",
   "metadata": {},
   "source": [
    "So, in this case, the variational parameters will be $\\vec\\theta \\equiv (\\theta_0, \\theta_1, \\cdots, \\theta_7)$, and the circuit \n",
    "\n",
    "$$\n",
    "U_A(\\vec{\\theta}) = \n",
    "[RY(\\theta_7)RZ(\\theta_5)\\otimes RY(\\theta_6)RZ(\\theta_4)] \n",
    "\\cdot CNOT_{0,1} \\cdot \n",
    "[RY(\\theta_3)RZ(\\theta_1)\\otimes RY(\\theta_2)RZ(\\theta_0)]\n",
    "$$\n",
    "\n",
    "Notice that the reference state $|\\rho\\rangle = |0\\rangle$, which means that $U_R = I$, and $U_A(\\vec\\theta) = U_V(\\vec\\theta)$. In other words, that this ansatz is only made out of a variational form."
   ]
  },
  {
   "cell_type": "markdown",
   "metadata": {},
   "source": [
    "## VQE"
   ]
  },
  {
   "attachments": {},
   "cell_type": "markdown",
   "metadata": {},
   "source": [
    "In this first example, you will run VQE to find the lowest eigenvalue of the first observable $\\hat{O}_1$ and look at all the output results. In order to initialize a Qiskit [VQE](https://qiskit.org/documentation/stubs/qiskit.algorithms.minimum_eigensolvers.VQE.html) object, you need to provide an `Estimator` instance, be it Terra's, Runtime's or any other implementation. It is also necessary to include the [ansatz](ansatz.ipynb) circuit and a classical [optimizer](optimization.ipynb). \n",
    "\n",
    "In this case we will use, Terra's [`Estimator`](https://qiskit.org/documentation/stubs/qiskit.primitives.Estimator.html#qiskit.primitives.Estimator) and the optimizer will be [`SLSQP`](https://qiskit.org/documentation/stubs/qiskit.algorithms.optimizers.SLSQP.html) (i.e. Sequential Least SQuares Programming). Additionally, we will set the initial point for the `SLSQP` optimizer to $\\vec\\theta_0 = (1, \\cdots, 1)$."
   ]
  },
  {
   "cell_type": "code",
   "execution_count": 4,
   "metadata": {},
   "outputs": [],
   "source": [
    "from qiskit.primitives import Estimator\n",
    "from qiskit.algorithms.optimizers import SLSQP\n",
    "from qiskit.algorithms.minimum_eigensolvers import VQE\n",
    "import numpy as np\n",
    "\n",
    "estimator = Estimator()\n",
    "optimizer = SLSQP()\n",
    "vqe = VQE(estimator, ansatz, optimizer, initial_point=np.ones(8))"
   ]
  },
  {
   "attachments": {},
   "cell_type": "markdown",
   "metadata": {},
   "source": [
    "Now that we have initialized the `VQE` instance, we can get the results with the [`VQE.compute_minimum_eigenvalue`](https://qiskit.org/documentation/stubs/qiskit.algorithms.minimum_eigensolvers.VQE.compute_minimum_eigenvalue.html#qiskit.algorithms.minimum_eigensolvers.VQE.compute_minimum_eigenvalue) method. Let us look at the results."
   ]
  },
  {
   "cell_type": "code",
   "execution_count": 6,
   "metadata": {},
   "outputs": [
    {
     "name": "stdout",
     "output_type": "stream",
     "text": [
      "{   'aux_operators_evaluated': None,\n",
      "    'cost_function_evals': 104,\n",
      "    'eigenvalue': -5.999999934608512,\n",
      "    'optimal_circuit': <qiskit.circuit.library.n_local.two_local.TwoLocal object at 0x12a12c150>,\n",
      "    'optimal_parameters': {   ParameterVectorElement(θ[5]): 0.14160850307385317,\n",
      "                              ParameterVectorElement(θ[3]): -6.416790728948547e-05,\n",
      "                              ParameterVectorElement(θ[2]): 1.5708979652059711,\n",
      "                              ParameterVectorElement(θ[6]): 0.2276422105623572,\n",
      "                              ParameterVectorElement(θ[1]): 0.9999995021216439,\n",
      "                              ParameterVectorElement(θ[4]): -0.141607089279231,\n",
      "                              ParameterVectorElement(θ[0]): 0.9999998472848347,\n",
      "                              ParameterVectorElement(θ[7]): 0.22774353601258496},\n",
      "    'optimal_point': array([ 9.99999847e-01,  9.99999502e-01,  1.57089797e+00, -6.41679073e-05,\n",
      "       -1.41607089e-01,  1.41608503e-01,  2.27642211e-01,  2.27743536e-01]),\n",
      "    'optimal_value': -5.999999934608512,\n",
      "    'optimizer_evals': None,\n",
      "    'optimizer_result': <qiskit.algorithms.optimizers.optimizer.OptimizerResult object at 0x142d7b4d0>,\n",
      "    'optimizer_time': 0.21661686897277832}\n"
     ]
    }
   ],
   "source": [
    "result = vqe.compute_minimum_eigenvalue(observable_1)\n",
    "print(result)"
   ]
  },
  {
   "cell_type": "markdown",
   "metadata": {},
   "source": [
    "The [`VQEResult`](https://qiskit.org/documentation/stubs/qiskit.algorithms.minimum_eigensolvers.VQEResult.html) we obtain explains the following:\n",
    "* `aux_operators_evaluated`: the expected values of any auxiliar operators we might include.\n",
    "* `cost_function_evals`: Number of cost function evaluations.\n",
    "* `eigenvalue`: the resulting eigenvalue.\n",
    "* `optimal_circuit`: the parametrized circuit from which the solution was found. To find the eigenstates you have to bind the optimal values to the parameters.\n",
    "* `optimal_parameters`: The set of optimal parameters as a dictionary\n",
    "* `optimal_point`: an array with the optimal parameter values\n",
    "* `optimal_value`: the optimal value of the cost function.\n",
    "* `optimizer_evals`: number of optimizer evaluations.\n",
    "* `optimizer_result`: results of the optimizer as an [`OptimizerResult`](https://qiskit.org/documentation/stubs/qiskit.algorithms.optimizers.OptimizerResult.html) object.\n",
    "* `optimizer_time`: time used for optimization (in seconds)."
   ]
  },
  {
   "cell_type": "markdown",
   "metadata": {},
   "source": [
    "Let us look at the `optimizer_result`:"
   ]
  },
  {
   "cell_type": "code",
   "execution_count": 8,
   "metadata": {},
   "outputs": [
    {
     "name": "stdout",
     "output_type": "stream",
     "text": [
      "{   'fun': -5.999999934608512,\n",
      "    'jac': None,\n",
      "    'nfev': 104,\n",
      "    'nit': 11,\n",
      "    'njev': 11,\n",
      "    'x': array([ 9.99999847e-01,  9.99999502e-01,  1.57089797e+00, -6.41679073e-05,\n",
      "       -1.41607089e-01,  1.41608503e-01,  2.27642211e-01,  2.27743536e-01])}\n"
     ]
    }
   ],
   "source": [
    "print(result.optimizer_result)"
   ]
  },
  {
   "cell_type": "markdown",
   "metadata": {},
   "source": [
    "Here the parameters are:\n",
    "* `fun`: the cost function value at the final step.\n",
    "* `jac`: the final gradient of the minimization.\n",
    "* `nfev`: number of cost function evaluations.\n",
    "* `nit`: number of optimizer iterations.\n",
    "* `njev`: number of gradient evaluations.\n",
    "* `x`: parameter values at the final step."
   ]
  },
  {
   "cell_type": "markdown",
   "metadata": {},
   "source": [
    "Of all this information, however, the most important part is the eigenvalue. Let us compare it with the theoretical value:"
   ]
  },
  {
   "cell_type": "code",
   "execution_count": 22,
   "metadata": {},
   "outputs": [
    {
     "name": "stdout",
     "output_type": "stream",
     "text": [
      "EIGENVALUES:\n",
      "  - Theoretical: -6.0.\n",
      "  - VQE: -5.999999934608512\n",
      "Percent error >> 1.09e-08\n"
     ]
    }
   ],
   "source": [
    "from numpy.linalg import eigvalsh\n",
    "\n",
    "eigenvalues = eigvalsh(observable_1.to_matrix())\n",
    "min_eigenvalue = eigenvalues[0]\n",
    "\n",
    "print(\"EIGENVALUES:\")\n",
    "print(f\"  - Theoretical: {min_eigenvalue}.\")\n",
    "print(f\"  - VQE: {result.eigenvalue}\")\n",
    "print(f\"Percent error >> {abs((result.eigenvalue - min_eigenvalue)/min_eigenvalue):.2e}\")"
   ]
  },
  {
   "attachments": {},
   "cell_type": "markdown",
   "metadata": {},
   "source": [
    "As you can see, the result is extremely close to the ideal.\n",
    "\n",
    "However, we still haven't looked at the eigenstates, since they were not part of `results`. For this purpose, let us bind the optimal parameter values `result.optimal_parameters` to `results.optimal_circuit` and define a [Statevector](https://qiskit.org/documentation/stubs/qiskit.quantum_info.Statevector.html) from that bound (i.e. non-parametrized) circuit."
   ]
  },
  {
   "cell_type": "code",
   "execution_count": 33,
   "metadata": {},
   "outputs": [
    {
     "name": "stdout",
     "output_type": "stream",
     "text": [
      "EIGENSTATE: [ 0.382-0.595j -0.   +0.j     0.   -0.j     0.382-0.595j]\n"
     ]
    }
   ],
   "source": [
    "from qiskit.quantum_info import Statevector\n",
    "\n",
    "optimal_circuit = result.optimal_circuit.bind_parameters(result.optimal_parameters)\n",
    "optimal_vector = Statevector.from_instruction(optimal_circuit)\n",
    "\n",
    "rounded_optimal_vector = np.round(optimal_vector.data, 3)\n",
    "print(f\"EIGENSTATE: {rounded_optimal_vector}\")"
   ]
  },
  {
   "attachments": {},
   "cell_type": "markdown",
   "metadata": {},
   "source": [
    "This result does not seem too close to the theoretical one of $\\frac{1}{\\sqrt{2}}(|00\\rangle + |11\\rangle) \\equiv [\\frac{1}{\\sqrt{2}},0,0,\\frac{1}{\\sqrt{2}}]$. However, notice that eigenvectors ar defined up to a constant factor. Furthermore, quantum states are always normalized and equivalent up to a global phase, so we can easily verify that these two statevectors are equivalent."
   ]
  },
  {
   "cell_type": "code",
   "execution_count": 32,
   "metadata": {},
   "outputs": [
    {
     "data": {
      "text/plain": [
       "True"
      ]
     },
     "execution_count": 32,
     "metadata": {},
     "output_type": "execute_result"
    }
   ],
   "source": [
    "from numpy.linalg import eigh\n",
    "\n",
    "_, eigenvectors = eigh(observable_1.to_matrix())\n",
    "min_eigenvector = eigenvectors.T[0]  # Note: transpose to extract by index\n",
    "\n",
    "optimal_vector.equiv(min_eigenvector, atol=1e-4)"
   ]
  },
  {
   "cell_type": "markdown",
   "metadata": {},
   "source": [
    "We can conclude that the state we obtained is equivalent to the ideal one up to $10^{-4}$."
   ]
  },
  {
   "cell_type": "markdown",
   "metadata": {},
   "source": [
    "### Add reference state\n",
    "\n",
    "In the previous example we have not used any reference operator $U_R$. Now let us think about how the ideal eigenstate $\\frac{1}{\\sqrt{2}}(|00\\rangle + |11\\rangle)$ can be obtained. Consider the following circuit."
   ]
  },
  {
   "cell_type": "code",
   "execution_count": 34,
   "metadata": {},
   "outputs": [
    {
     "data": {
      "image/png": "[encoded data removed]",
      "text/plain": [
       "<Figure size 287.294x200.667 with 1 Axes>"
      ]
     },
     "execution_count": 34,
     "metadata": {},
     "output_type": "execute_result"
    }
   ],
   "source": [
    "from qiskit import QuantumCircuit\n",
    "\n",
    "ideal_qc = QuantumCircuit(2)\n",
    "ideal_qc.h(0)\n",
    "ideal_qc.cx(0,1)\n",
    "\n",
    "ideal_qc.draw(\"mpl\")"
   ]
  },
  {
   "cell_type": "markdown",
   "metadata": {},
   "source": [
    "We can quickly check that this circuit gives us the desired state."
   ]
  },
  {
   "cell_type": "code",
   "execution_count": 35,
   "metadata": {},
   "outputs": [
    {
     "name": "stdout",
     "output_type": "stream",
     "text": [
      "Statevector([0.70710678+0.j, 0.        +0.j, 0.        +0.j,\n",
      "             0.70710678+0.j],\n",
      "            dims=(2, 2))\n"
     ]
    }
   ],
   "source": [
    "Statevector.from_instruction(ideal_qc)"
   ]
  },
  {
   "attachments": {},
   "cell_type": "markdown",
   "metadata": {},
   "source": [
    "Now that we have seen how a circuit preparing the solution state looks like, it seems reasonable to use a Hadamard gate as a reference circuit, so that the full ansatz becomes:"
   ]
  },
  {
   "cell_type": "code",
   "execution_count": 40,
   "metadata": {},
   "outputs": [
    {
     "data": {
      "image/png": "[encoded data removed]",
      "text/plain": [
       "<Figure size 705.35x200.667 with 1 Axes>"
      ]
     },
     "execution_count": 40,
     "metadata": {},
     "output_type": "execute_result"
    }
   ],
   "source": [
    "reference = QuantumCircuit(2)\n",
    "reference.h(0)\n",
    "# Include barrier to separate reference from variational form\n",
    "reference.barrier()\n",
    "\n",
    "ref_ansatz = ansatz.decompose().compose(reference, front=True)\n",
    "\n",
    "ref_ansatz.draw(\"mpl\")"
   ]
  },
  {
   "cell_type": "markdown",
   "metadata": {},
   "source": [
    "For this new circuit, the ideal solution could be reached with all the parameters set to $0$, so this confirms that the choice of reference circuit is reasonable.\n",
    "\n",
    "Now let us compare the number of cost function evaluations, optimizer iterations and time taken with those of the previous attempt."
   ]
  },
  {
   "cell_type": "code",
   "execution_count": 45,
   "metadata": {},
   "outputs": [
    {
     "name": "stdout",
     "output_type": "stream",
     "text": [
      "NO REFERENCE STATE:\n",
      "  - Number of evaluations: 104\n",
      "  - Number of iterations: 11\n",
      "  - Time: 0.21662 seconds\n"
     ]
    }
   ],
   "source": [
    "num_evaluations = result.cost_function_evals\n",
    "num_iterations = result.optimizer_result.nit\n",
    "time = result.optimizer_time\n",
    "\n",
    "print(\"NO REFERENCE STATE:\")\n",
    "print(f\"  - Number of evaluations: {num_evaluations}\")\n",
    "print(f\"  - Number of iterations: {num_iterations}\")\n",
    "print(f\"  - Time: {time:.5f} seconds\")"
   ]
  },
  {
   "cell_type": "code",
   "execution_count": 42,
   "metadata": {},
   "outputs": [],
   "source": [
    "# You can change the ansatz of the already defined vqe object instead of creating a new one\n",
    "vqe.ansatz = ref_ansatz\n",
    "\n",
    "ref_result = vqe.compute_minimum_eigenvalue(observable_1)"
   ]
  },
  {
   "cell_type": "code",
   "execution_count": 57,
   "metadata": {},
   "outputs": [
    {
     "name": "stdout",
     "output_type": "stream",
     "text": [
      "ADDED REFERENCE STATE:\n",
      "  - Number of evaluations: 96\n",
      "  - Number of iterations: 10\n",
      "  - Time: 0.16970 seconds\n",
      "\n",
      ">> Number of cost function evaluations improved\n",
      ">> Time improved\n"
     ]
    }
   ],
   "source": [
    "num_evaluations_ref = ref_result.cost_function_evals\n",
    "num_iterations_ref = ref_result.optimizer_result.nit\n",
    "time_ref = ref_result.optimizer_time\n",
    "\n",
    "print(\"ADDED REFERENCE STATE:\")\n",
    "print(f\"  - Number of evaluations: {num_evaluations_ref}\")\n",
    "print(f\"  - Number of iterations: {num_iterations_ref}\")\n",
    "print(f\"  - Time: {time_ref:.5f} seconds\")\n",
    "print()\n",
    "\n",
    "if num_evaluations_ref < num_evaluations:\n",
    "    print(\">> Number of cost function evaluations improved\")\n",
    "elif num_evaluations_ref > num_evaluations:\n",
    "    print(\">> Number of cost function evaluations worsened\")\n",
    "if num_iterations_ref < num_iterations:\n",
    "    print(\">> Number of iterations improved\")\n",
    "elif num_iterations_ref > num_iterations:\n",
    "    print(\">> Number of iterations worsened\")\n",
    "if time_ref < time:\n",
    "    print(\">> Time improved\")\n",
    "elif time_ref > time:\n",
    "    print(\">> Time worsened\")\n"
   ]
  },
  {
   "attachments": {},
   "cell_type": "markdown",
   "metadata": {},
   "source": [
    "However, how effective this is depends also on the choice of observable. Now let us solve the same problem as before but for the second observable $2 II - 3 XX + 2 YY - 4 ZZ$. As we have seen, the solution eigenstate is the same, except that the corresponding eigenvalue is now $-7$ instead of $-6$."
   ]
  },
  {
   "cell_type": "code",
   "execution_count": 50,
   "metadata": {},
   "outputs": [],
   "source": [
    "# Reset the ansatz\n",
    "vqe.ansatz = ansatz\n",
    "\n",
    "result = vqe.compute_minimum_eigenvalue(observable_2)"
   ]
  },
  {
   "cell_type": "markdown",
   "metadata": {},
   "source": [
    "Before comparing the results before and after the reference state, let us check whether the eigenvalue we obtain is close to the ideal one."
   ]
  },
  {
   "cell_type": "code",
   "execution_count": 51,
   "metadata": {},
   "outputs": [
    {
     "name": "stdout",
     "output_type": "stream",
     "text": [
      "EIGENVALUES:\n",
      "  - Theoretical: -7.0.\n",
      "  - VQE: -6.99999997050242\n",
      "Percent error >> 4.21e-09\n"
     ]
    }
   ],
   "source": [
    "eigenvalues = eigvalsh(observable_2.to_matrix())\n",
    "min_eigenvalue = eigenvalues[0]\n",
    "\n",
    "print(\"EIGENVALUES:\")\n",
    "print(f\"  - Theoretical: {min_eigenvalue}.\")\n",
    "print(f\"  - VQE: {result.eigenvalue}\")\n",
    "print(f\"Percent error >> {abs((result.eigenvalue - min_eigenvalue)/min_eigenvalue):.2e}\")"
   ]
  },
  {
   "cell_type": "code",
   "execution_count": 53,
   "metadata": {},
   "outputs": [
    {
     "name": "stdout",
     "output_type": "stream",
     "text": [
      "NO REFERENCE STATE:\n",
      "  - Number of evaluations: 97\n",
      "  - Number of iterations: 10\n",
      "  - Time: 0.21051 seconds\n"
     ]
    }
   ],
   "source": [
    "num_evaluations = result.cost_function_evals\n",
    "num_iterations = result.optimizer_result.nit\n",
    "time = result.optimizer_time\n",
    "\n",
    "print(\"NO REFERENCE STATE:\")\n",
    "print(f\"  - Number of evaluations: {num_evaluations}\")\n",
    "print(f\"  - Number of iterations: {num_iterations}\")\n",
    "print(f\"  - Time: {time:.5f} seconds\")"
   ]
  },
  {
   "cell_type": "code",
   "execution_count": 54,
   "metadata": {},
   "outputs": [],
   "source": [
    "vqe.ansatz = ref_ansatz\n",
    "\n",
    "ref_result = vqe.compute_minimum_eigenvalue(observable_2)"
   ]
  },
  {
   "cell_type": "code",
   "execution_count": 56,
   "metadata": {},
   "outputs": [
    {
     "name": "stdout",
     "output_type": "stream",
     "text": [
      "ADDED REFERENCE STATE:\n",
      "  - Number of evaluations: 96\n",
      "  - Number of iterations: 10\n",
      "  - Time: 0.16970 seconds\n",
      "\n",
      ">> Number of cost function evaluations improved\n",
      ">> Time improved\n"
     ]
    }
   ],
   "source": [
    "num_evaluations_ref = ref_result.cost_function_evals\n",
    "num_iterations_ref = ref_result.optimizer_result.nit\n",
    "time_ref = ref_result.optimizer_time\n",
    "\n",
    "print(\"ADDED REFERENCE STATE:\")\n",
    "print(f\"  - Number of evaluations: {num_evaluations_ref}\")\n",
    "print(f\"  - Number of iterations: {num_iterations_ref}\")\n",
    "print(f\"  - Time: {time_ref:.5f} seconds\")\n",
    "print()\n",
    "\n",
    "if num_evaluations_ref < num_evaluations:\n",
    "    print(\">> Number of cost function evaluations improved\")\n",
    "elif num_evaluations_ref > num_evaluations:\n",
    "    print(\">> Number of cost function evaluations worsened\")\n",
    "if num_iterations_ref < num_iterations:\n",
    "    print(\">> Number of iterations improved\")\n",
    "elif num_iterations_ref > num_iterations:\n",
    "    print(\">> Number of iterations worsened\")\n",
    "if time_ref < time:\n",
    "    print(\">> Time improved\")\n",
    "elif time_ref > time:\n",
    "    print(\">> Time worsened\")"
   ]
  },
  {
   "cell_type": "markdown",
   "metadata": {},
   "source": [
    "### Change initial point"
   ]
  },
  {
   "cell_type": "markdown",
   "metadata": {},
   "source": [
    "Now that we have seen the effect of adding the reference state, we will go into what happens when we choose different initial points $\\vec{\\theta_0}$. In particular we will use $\\vec{\\theta_0}=(0,0,0,0,6,0,0,0)$ and $\\vec{\\theta_0}=(6,6,6,6,6,6,6,6,6)$. Remember that, as discussed when the reference state was introduced, the ideal solution would be found when all the parameters are $0$, so the first initial point should give fewer evaluations, iterations and time."
   ]
  },
  {
   "cell_type": "code",
   "execution_count": 70,
   "metadata": {},
   "outputs": [
    {
     "name": "stdout",
     "output_type": "stream",
     "text": [
      "INITIAL POINT: [0, 0, 0, 0, 6, 0, 0, 0]\n",
      "  - Number of evaluations: 29\n",
      "  - Number of iterations: 3\n",
      "  - Time: 0.07153 seconds\n"
     ]
    }
   ],
   "source": [
    "vqe.initial_point = [0,0,0,0,6,0,0,0]\n",
    "\n",
    "result = vqe.compute_minimum_eigenvalue(observable_1)\n",
    "\n",
    "num_evaluations = result.cost_function_evals\n",
    "num_iterations = result.optimizer_result.nit\n",
    "time = result.optimizer_time\n",
    "\n",
    "print(f\"INITIAL POINT: {vqe.initial_point}\")\n",
    "print(f\"  - Number of evaluations: {num_evaluations}\")\n",
    "print(f\"  - Number of iterations: {num_iterations}\")\n",
    "print(f\"  - Time: {time:.5f} seconds\")"
   ]
  },
  {
   "cell_type": "code",
   "execution_count": 71,
   "metadata": {},
   "outputs": [
    {
     "name": "stdout",
     "output_type": "stream",
     "text": [
      "INITIAL POINT: [6. 6. 6. 6. 6. 6. 6. 6.]\n",
      "  - Number of evaluations: 70\n",
      "  - Number of iterations: 7\n",
      "  - Time: 0.22412 seconds\n"
     ]
    }
   ],
   "source": [
    "vqe.initial_point = 6*np.ones(8)\n",
    "\n",
    "result = vqe.compute_minimum_eigenvalue(observable_1)\n",
    "\n",
    "num_evaluations = result.cost_function_evals\n",
    "num_iterations = result.optimizer_result.nit\n",
    "time = result.optimizer_time\n",
    "\n",
    "print(f\"INITIAL POINT: {vqe.initial_point}\")\n",
    "print(f\"  - Number of evaluations: {num_evaluations}\")\n",
    "print(f\"  - Number of iterations: {num_iterations}\")\n",
    "print(f\"  - Time: {time:.5f} seconds\")"
   ]
  },
  {
   "cell_type": "markdown",
   "metadata": {},
   "source": [
    "## VQD example"
   ]
  },
  {
   "attachments": {},
   "cell_type": "markdown",
   "metadata": {},
   "source": [
    "Now instead of looking for only the lowest eigenvalue of our observables, we will look for all $4$. Following the notation from the previous chapter (as well as that from Qiskit's [VQD](https://qiskit.org/documentation/stubs/qiskit.algorithms.eigensolvers.VQD.html) class), that means $k=4$.\n",
    "\n",
    "Remember that the cost functions of VQD are:\n",
    "\n",
    "$$\n",
    "C_{l}(\\vec{\\theta}) := \n",
    "\\langle \\psi(\\vec{\\theta}) | \\hat{H} | \\psi(\\vec{\\theta})\\rangle + \n",
    "\\sum_{j=0}^{l-1}\\beta_j |\\langle \\psi(\\vec{\\theta})| \\psi(\\vec{\\theta^j})\\rangle  |^2 \n",
    "\\quad \\forall l\\in\\{1,\\cdots,k\\}=\\{1,\\cdots,4\\}\n",
    "$$\n",
    "\n",
    "This is particularly important because a vector $\\vec{\\beta}=(\\beta_0,\\cdots,\\beta_{k-1})$ (in this case $(\\beta_0, \\beta_1, \\beta_2, \\beta_3)$) must be passed as an argument when we define the `VQD` object.\n",
    "\n",
    "Also, in Qiskit's implementation of VQD, instead of considering the effective observables described in the previous notebook, the fidelities $|\\langle \\psi(\\vec{\\theta})| \\psi(\\vec{\\theta^j})\\rangle  |^2$ are calculated directly via the [`ComputeUncompute`](https://qiskit.org/documentation/stubs/qiskit.algorithms.state_fidelities.ComputeUncompute.html) algorithm, that leverages a `Sampler` primitive to sample the probability of obtaining $|0\\rangle$ for the circuit\n",
    "$U_A^\\dagger(\\vec{\\theta})U_A(\\vec{\\theta^j})$. This works precisely because this probability is\n",
    "$$p_0 = |\\langle 0|U_A^\\dagger(\\vec{\\theta})U_A(\\vec{\\theta^j})|0\\rangle|^2 =  |\\big(\\langle 0|U_A^\\dagger(\\vec{\\theta})\\big)\\big(U_A(\\vec{\\theta^j})|0\\rangle\\big)|^2 = |\\langle \\psi(\\vec{\\theta}) |\\psi(\\vec{\\theta^j}) \\rangle|^2.$$\n",
    "\n",
    "Finally, to try out a new optimizer, let us use [`COBYLA`](https://qiskit.org/documentation/stubs/qiskit.algorithms.optimizers.COBYLA.html) instead instead of `SLSQP`."
   ]
  },
  {
   "cell_type": "code",
   "execution_count": 72,
   "metadata": {},
   "outputs": [],
   "source": [
    "from qiskit.primitives import Sampler\n",
    "from qiskit.algorithms.optimizers import COBYLA\n",
    "from qiskit.algorithms.state_fidelities import ComputeUncompute\n",
    "from qiskit.algorithms.eigensolvers import VQD\n",
    "\n",
    "optimizer = COBYLA()\n",
    "sampler = Sampler()\n",
    "fidelity = ComputeUncompute(sampler)\n",
    "\n",
    "k = 4\n",
    "betas = [40, 60, 30, 30]\n",
    "\n",
    "vqd = VQD(estimator, fidelity, ansatz, optimizer, k=k, betas=betas)"
   ]
  },
  {
   "attachments": {},
   "cell_type": "markdown",
   "metadata": {},
   "source": [
    "As the only API difference from the previous examples, notice that instead of calling the `VQE.compute_minimum_eigenvalue` method, we will call [`VQD.compute_eigenvalues`](https://qiskit.org/documentation/stubs/qiskit.algorithms.eigensolvers.VQD.compute_eigenvalues.html).\n",
    "\n",
    "This time we will examine first the second observable, $\\hat{O}_2 := 2 II - 3 XX + 2 YY - 4 ZZ$. The reasoning behind this will become apparent later."
   ]
  },
  {
   "cell_type": "code",
   "execution_count": 73,
   "metadata": {},
   "outputs": [
    {
     "name": "stdout",
     "output_type": "stream",
     "text": [
      "{   'aux_operators_evaluated': None,\n",
      "    'cost_function_evals': array([ 123,  331, 1000,  146]),\n",
      "    'eigenvalues': array([-6.99999994+0.j,  3.00000005+0.j,  5.00005101+0.j,  7.00019314+0.j]),\n",
      "    'optimal_circuits': [   <qiskit.circuit.library.n_local.two_local.TwoLocal object at 0x1435004d0>,\n",
      "                            <qiskit.circuit.library.n_local.two_local.TwoLocal object at 0x1436c6850>,\n",
      "                            <qiskit.circuit.library.n_local.two_local.TwoLocal object at 0x143637010>,\n",
      "                            <qiskit.circuit.library.n_local.two_local.TwoLocal object at 0x14368a2d0>],\n",
      "    'optimal_parameters': [   {   ParameterVectorElement(θ[5]): 6.118084883235053,\n",
      "                                  ParameterVectorElement(θ[3]): -6.283152997469988,\n",
      "                                  ParameterVectorElement(θ[2]): -4.712385176745006,\n",
      "                                  ParameterVectorElement(θ[6]): 5.281919722176651,\n",
      "                                  ParameterVectorElement(θ[1]): 5.150624721880258,\n",
      "                                  ParameterVectorElement(θ[4]): 6.448231075853032,\n",
      "                                  ParameterVectorElement(θ[0]): 5.766926854476973,\n",
      "                                  ParameterVectorElement(θ[7]): -1.001378417207258},\n",
      "                              {   ParameterVectorElement(θ[5]): 4.708484478361715,\n",
      "                                  ParameterVectorElement(θ[3]): -3.1416958694922203,\n",
      "                                  ParameterVectorElement(θ[2]): -4.7122976850987985,\n",
      "                                  ParameterVectorElement(θ[6]): 5.42296237811763,\n",
      "                                  ParameterVectorElement(θ[1]): 5.048541868502773,\n",
      "                                  ParameterVectorElement(θ[4]): 4.708511974982004,\n",
      "                                  ParameterVectorElement(θ[0]): 5.147360369416719,\n",
      "                                  ParameterVectorElement(θ[7]): -2.28117737727359},\n",
      "                              {   ParameterVectorElement(θ[5]): 6.1964002577922646,\n",
      "                                  ParameterVectorElement(θ[3]): -3.1447268143934517,\n",
      "                                  ParameterVectorElement(θ[2]): -4.703072033013061,\n",
      "                                  ParameterVectorElement(θ[6]): 6.604665060318322,\n",
      "                                  ParameterVectorElement(θ[1]): 5.304842987028788,\n",
      "                                  ParameterVectorElement(θ[4]): 6.196518773203009,\n",
      "                                  ParameterVectorElement(θ[0]): 5.048977033726419,\n",
      "                                  ParameterVectorElement(θ[7]): -0.32150950656391214},\n",
      "                              {   ParameterVectorElement(θ[5]): 7.684031532142337,\n",
      "                                  ParameterVectorElement(θ[3]): -3.1402654708091906,\n",
      "                                  ParameterVectorElement(θ[2]): -4.720361649662658,\n",
      "                                  ParameterVectorElement(θ[6]): 5.812530189742319,\n",
      "                                  ParameterVectorElement(θ[1]): 4.713893538312779,\n",
      "                                  ParameterVectorElement(θ[4]): 4.54247806833667,\n",
      "                                  ParameterVectorElement(θ[0]): 5.690852480691087,\n",
      "                                  ParameterVectorElement(θ[7]): -0.4707736346671689}],\n",
      "    'optimal_points': array([[ 5.76692685,  5.15062472, -4.71238518, -6.283153  ,  6.44823108,\n",
      "         6.11808488,  5.28191972, -1.00137842],\n",
      "       [ 5.14736037,  5.04854187, -4.71229769, -3.14169587,  4.70851197,\n",
      "         4.70848448,  5.42296238, -2.28117738],\n",
      "       [ 5.04897703,  5.30484299, -4.70307203, -3.14472681,  6.19651877,\n",
      "         6.19640026,  6.60466506, -0.32150951],\n",
      "       [ 5.69085248,  4.71389354, -4.72036165, -3.14026547,  4.54247807,\n",
      "         7.68403153,  5.81253019, -0.47077363]]),\n",
      "    'optimal_values': array([-6.99999994,  3.00000005,  5.00005101,  7.00019314]),\n",
      "    'optimizer_results': [   <qiskit.algorithms.optimizers.optimizer.OptimizerResult object at 0x12aca7dd0>,\n",
      "                             <qiskit.algorithms.optimizers.optimizer.OptimizerResult object at 0x14367f150>,\n",
      "                             <qiskit.algorithms.optimizers.optimizer.OptimizerResult object at 0x143229410>,\n",
      "                             <qiskit.algorithms.optimizers.optimizer.OptimizerResult object at 0x1437d9550>],\n",
      "    'optimizer_times': array([0.2414968 , 1.65658665, 6.26294875, 1.28357506])}\n"
     ]
    }
   ],
   "source": [
    "result = vqd.compute_eigenvalues(observable_2)\n",
    "print(result)"
   ]
  },
  {
   "cell_type": "markdown",
   "metadata": {},
   "source": [
    "The [VQDResult](https://qiskit.org/documentation/stubs/qiskit.algorithms.eigensolvers.VQDResult.html) we obtain is completely analogous to the `VQEResult`. It only differs in that each attribute is a list whose $i$-th element corresponds to the $i$-th eigenvalue."
   ]
  },
  {
   "cell_type": "markdown",
   "metadata": {},
   "source": [
    "Now that we have seen the eigenvalues, let us compare the experimental eigenvectors with the theoretical ones:"
   ]
  },
  {
   "cell_type": "code",
   "execution_count": 84,
   "metadata": {},
   "outputs": [
    {
     "name": "stdout",
     "output_type": "stream",
     "text": [
      "RESULT 0:\n",
      "  - eigenvalue = -7.000\n",
      "  - eigenstate = [(-0.48-0.519j), (-0-0j), 0j, (-0.48-0.519j)]\n",
      "RESULT 1:\n",
      "  - eigenvalue = 3.000\n",
      "  - eigenstate = [(-0.266-0.655j), (-0-0j), (-0-0j), (0.266+0.655j)]\n",
      "RESULT 2:\n",
      "  - eigenvalue = 5.000\n",
      "  - eigenstate = [-0j, (-0.318-0.635j), (-0.315-0.629j), (-0+0j)]\n",
      "RESULT 3:\n",
      "  - eigenvalue = 7.000\n",
      "  - eigenstate = [(0.001-0j), (-0.622+0.332j), (0.626-0.334j), (-0.001+0.001j)]\n"
     ]
    }
   ],
   "source": [
    "optimal_circuits = [\n",
    "    circuit.bind_parameters(parameters)\n",
    "    for circuit, parameters in zip(result.optimal_circuits, result.optimal_parameters)\n",
    "]\n",
    "eigenstates = [Statevector.from_instruction(c) for c in optimal_circuits]\n",
    "\n",
    "for i, (eigenvalue, eigenstate) in enumerate(zip(result.eigenvalues, eigenstates)):\n",
    "    eigenvalue = eigenvalue.real\n",
    "    eigenstate = np.round(eigenstate.data, 3).tolist()\n",
    "    print(f\"RESULT {i}:\")\n",
    "    print(f\"  - {eigenvalue = :.3f}\")\n",
    "    print(f\"  - {eigenstate = }\")"
   ]
  },
  {
   "cell_type": "markdown",
   "metadata": {},
   "source": [
    "These results are the same as the expected ones except from a small approximation error and global phase."
   ]
  },
  {
   "attachments": {},
   "cell_type": "markdown",
   "metadata": {},
   "source": [
    "Now let us solve this problem for the first observable $\\hat{O}_1 := 2 II - 2 XX + 3 YY - 3 ZZ$."
   ]
  },
  {
   "cell_type": "code",
   "execution_count": 85,
   "metadata": {},
   "outputs": [
    {
     "name": "stdout",
     "output_type": "stream",
     "text": [
      "RESULT 0:\n",
      "  - eigenvalue = -6.000\n",
      "  - eigenstate = [(0.405+0.579j), 0j, (-0+0j), (0.405+0.579j)]\n",
      "RESULT 1:\n",
      "  - eigenvalue = 4.000\n",
      "  - eigenstate = [(0.015+0.041j), (-0.26-0.656j), (0.26+0.656j), (-0.017-0.04j)]\n",
      "RESULT 2:\n",
      "  - eigenvalue = 4.009\n",
      "  - eigenstate = [(0.587+0.385j), (0.06-0.015j), (-0.011-0.059j), (-0.59-0.389j)]\n",
      "RESULT 3:\n",
      "  - eigenvalue = 5.993\n",
      "  - eigenstate = [(0.033-0.032j), (0.444+0.547j), (0.442+0.551j), (-0.04+0.028j)]\n"
     ]
    }
   ],
   "source": [
    "result = vqd.compute_eigenvalues(observable_1)\n",
    "\n",
    "## PRINT\n",
    "optimal_circuits = [\n",
    "    circuit.bind_parameters(parameters)\n",
    "    for circuit, parameters in zip(result.optimal_circuits, result.optimal_parameters)\n",
    "]\n",
    "eigenstates = [Statevector.from_instruction(c) for c in optimal_circuits]\n",
    "\n",
    "for i, (eigenvalue, eigenstate) in enumerate(zip(result.eigenvalues, eigenstates)):\n",
    "    eigenvalue = eigenvalue.real\n",
    "    eigenstate = np.round(eigenstate.data, 3).tolist()\n",
    "    print(f\"RESULT {i}:\")\n",
    "    print(f\"  - {eigenvalue = :.3f}\")\n",
    "    print(f\"  - {eigenstate = }\")"
   ]
  },
  {
   "attachments": {},
   "cell_type": "markdown",
   "metadata": {},
   "source": [
    "Here the eigenstates corresponding to $\\lambda_1 = \\lambda_2 = 4$ are not the same as the expected ones: $|\\phi_1\\rangle = \\frac{1}{\\sqrt{2}}(|00\\rangle - |11\\rangle)$ and $|\\phi_2\\rangle = \\frac{1}{\\sqrt{2}}(|01\\rangle + |10\\rangle)$. This happens precisely because as $\\lambda_1=\\lambda_2$, any complex linear combination of those $\\alpha_1 |\\phi_1\\rangle + \\alpha_2 |\\phi_2\\rangle = \\frac{1}{\\sqrt{2}}(\\alpha_1 |00\\rangle + \\alpha_2 |01\\rangle - \\alpha_2 |10\\rangle - \\alpha_1 |11\\rangle)\\equiv \\frac{1}{\\sqrt{2}}[\\alpha_1, \\alpha_2, -\\alpha_2, -\\alpha_1]$ is also a eigenstate with the same eigenvalue. That is exactly what we are seeing with these results."
   ]
  },
  {
   "cell_type": "markdown",
   "metadata": {},
   "source": [
    "## Change betas"
   ]
  },
  {
   "cell_type": "markdown",
   "metadata": {},
   "source": [
    "As mentioned in the instances chapter, the values of $\\vec{\\beta}$ should be bigger than the difference between eigenvalues. Let us see what happens when they do not verify that condition."
   ]
  },
  {
   "cell_type": "code",
   "execution_count": 86,
   "metadata": {},
   "outputs": [
    {
     "name": "stdout",
     "output_type": "stream",
     "text": [
      "RESULT 0:\n",
      "  - eigenvalue = -7.000\n",
      "  - eigenstate = [(0.672+0.219j), 0j, (-0-0j), (0.672+0.219j)]\n",
      "RESULT 1:\n",
      "  - eigenvalue = -6.000\n",
      "  - eigenstate = [(0.611+0.356j), 0j, 0j, (0.611+0.356j)]\n",
      "RESULT 2:\n",
      "  - eigenvalue = -5.000\n",
      "  - eigenstate = [(0.653-0.272j), (-0-0j), 0j, (0.653-0.272j)]\n",
      "RESULT 3:\n",
      "  - eigenvalue = -4.000\n",
      "  - eigenstate = [(0.616+0.348j), (-0-0j), 0j, (0.616+0.347j)]\n"
     ]
    }
   ],
   "source": [
    "vqd.betas = np.ones(4)\n",
    "result = vqd.compute_eigenvalues(observable_2)\n",
    "\n",
    "## PRINT\n",
    "optimal_circuits = [\n",
    "    circuit.bind_parameters(parameters)\n",
    "    for circuit, parameters in zip(result.optimal_circuits, result.optimal_parameters)\n",
    "]\n",
    "eigenstates = [Statevector.from_instruction(c) for c in optimal_circuits]\n",
    "\n",
    "for i, (eigenvalue, eigenstate) in enumerate(zip(result.eigenvalues, eigenstates)):\n",
    "    eigenvalue = eigenvalue.real\n",
    "    eigenstate = np.round(eigenstate.data, 3).tolist()\n",
    "    print(f\"RESULT {i}:\")\n",
    "    print(f\"  - {eigenvalue = :.3f}\")\n",
    "    print(f\"  - {eigenstate = }\")"
   ]
  },
  {
   "attachments": {},
   "cell_type": "markdown",
   "metadata": {},
   "source": [
    "This time, the optimizer returns the same state $|\\phi_0\\rangle = \\frac{1}{\\sqrt{2}}(|00\\rangle + |11\\rangle)$ as proposed solution to all eigenstates: which is clearly wrong. This happens because the betas were too small to penalize the minimum eigenstate in the successive cost functions; therefore, it was not excluded from the effective search space in later iterations of the algorithm, and always chosen as the best possible solution."
   ]
  },
  {
   "cell_type": "markdown",
   "metadata": {},
   "source": [
    "## Variational algorithms with Qiskit Runtime"
   ]
  },
  {
   "cell_type": "markdown",
   "metadata": {},
   "source": []
  },
  {
   "cell_type": "code",
   "execution_count": 100,
   "metadata": {},
   "outputs": [],
   "source": [
    "## I'm following this how-to guide https://qiskit.org/documentation/partners/qiskit_ibm_runtime/how_to/noisy_simulators.html\n",
    "## the idea is to use runtime with noisy simulator.\n",
    "\n",
    "\n",
    "from qiskit_ibm_runtime import QiskitRuntimeService\n",
    "\n",
    "service = QiskitRuntimeService(channel=\"ibm_quantum\")"
   ]
  },
  {
   "cell_type": "markdown",
   "metadata": {},
   "source": []
  },
  {
   "cell_type": "code",
   "execution_count": 95,
   "metadata": {},
   "outputs": [
    {
     "data": {
      "text/plain": [
       "[<IBMBackend('ibmq_qasm_simulator')>,\n",
       " <IBMBackend('ibmq_montreal')>,\n",
       " <IBMBackend('ibmq_toronto')>,\n",
       " <IBMBackend('ibmq_kolkata')>,\n",
       " <IBMBackend('ibmq_mumbai')>,\n",
       " <IBMBackend('ibmq_lima')>,\n",
       " <IBMBackend('ibmq_belem')>,\n",
       " <IBMBackend('ibmq_quito')>,\n",
       " <IBMBackend('ibmq_guadalupe')>,\n",
       " <IBMBackend('ibmq_jakarta')>,\n",
       " <IBMBackend('ibmq_manila')>,\n",
       " <IBMBackend('ibm_hanoi')>,\n",
       " <IBMBackend('ibm_lagos')>,\n",
       " <IBMBackend('ibm_nairobi')>,\n",
       " <IBMBackend('ibm_cairo')>,\n",
       " <IBMBackend('ibm_auckland')>,\n",
       " <IBMBackend('ibm_perth')>,\n",
       " <IBMBackend('ibm_washington')>,\n",
       " <IBMBackend('ibm_oslo')>,\n",
       " <IBMBackend('ibm_geneva')>,\n",
       " <IBMBackend('ibm_sherbrooke')>,\n",
       " <IBMBackend('simulator_statevector')>,\n",
       " <IBMBackend('simulator_mps')>,\n",
       " <IBMBackend('simulator_extended_stabilizer')>,\n",
       " <IBMBackend('simulator_stabilizer')>]"
      ]
     },
     "execution_count": 95,
     "metadata": {},
     "output_type": "execute_result"
    }
   ],
   "source": [
    "service.backends()"
   ]
  },
  {
   "cell_type": "markdown",
   "metadata": {},
   "source": []
  },
  {
   "cell_type": "code",
   "execution_count": 101,
   "metadata": {},
   "outputs": [],
   "source": [
    "# use the simulator\n",
    "\n",
    "backend = service.backend(\"ibmq_qasm_simulator\")"
   ]
  },
  {
   "cell_type": "markdown",
   "metadata": {},
   "source": []
  },
  {
   "cell_type": "code",
   "execution_count": 102,
   "metadata": {},
   "outputs": [],
   "source": [
    "from qiskit.providers.fake_provider import FakeManilaV2\n",
    "from qiskit_aer.noise import NoiseModel\n",
    "\n",
    "#create noise model from the backend\n",
    "\n",
    "fake_backend = FakeManilaV2()\n",
    "noise_model = NoiseModel.from_backend(fake_backend)"
   ]
  },
  {
   "cell_type": "markdown",
   "metadata": {},
   "source": []
  },
  {
   "cell_type": "code",
   "execution_count": 103,
   "metadata": {},
   "outputs": [
    {
     "name": "stdout",
     "output_type": "stream",
     "text": [
      "Options(optimization_level=3, resilience_level=1, max_execution_time=None, transpilation=TranspilationOptions(skip_transpilation=False, initial_layout=None, layout_method=None, routing_method=None, approximation_degree=None), resilience=ResilienceOptions(noise_amplifier='TwoQubitAmplifier', noise_factors=(1, 3, 5), extrapolator='LinearExtrapolator'), execution=ExecutionOptions(shots=4000, init_qubits=True), environment=EnvironmentOptions(log_level='WARNING', callback=None, job_tags=[]), simulator=SimulatorOptions(noise_model=None, seed_simulator=None, coupling_map=None, basis_gates=None))\n"
     ]
    }
   ],
   "source": [
    "from qiskit_ibm_runtime import Options\n",
    "\n",
    "options = Options()\n",
    "print(options)"
   ]
  },
  {
   "cell_type": "code",
   "execution_count": 104,
   "metadata": {},
   "outputs": [],
   "source": [
    "# set options to use the noise model\n",
    "\n",
    "options.simulator = {\n",
    "    \"noise_model\": noise_model,\n",
    "    \"basis_gates\": fake_backend.operation_names,\n",
    "    \"coupling_map\": list(fake_backend.coupling_map),\n",
    "    \"seed_simulator\": 42\n",
    "}\n",
    "\n",
    "# had to refactor the coupling map as a list because otherwise I get error.\n",
    "\n",
    "options.optimization_level=0\n",
    "options.resilience_level=0"
   ]
  },
  {
   "cell_type": "code",
   "execution_count": 105,
   "metadata": {},
   "outputs": [
    {
     "name": "stdout",
     "output_type": "stream",
     "text": [
      "{   'aux_operators_evaluated': None,\n",
      "    'cost_function_evals': 91,\n",
      "    'eigenvalue': -2.8925,\n",
      "    'optimal_circuit': <qiskit.circuit.library.n_local.two_local.TwoLocal object at 0x7f8d7957be80>,\n",
      "    'optimal_parameters': {   ParameterVectorElement(θ[4]): 0.32419132053191113,\n",
      "                              ParameterVectorElement(θ[1]): 0.8001889538327664,\n",
      "                              ParameterVectorElement(θ[2]): 1.5339954103827056,\n",
      "                              ParameterVectorElement(θ[0]): 0.9820731075362733,\n",
      "                              ParameterVectorElement(θ[7]): 1.1199174549721211,\n",
      "                              ParameterVectorElement(θ[6]): 1.0016097479707406,\n",
      "                              ParameterVectorElement(θ[5]): -0.4646049074996886,\n",
      "                              ParameterVectorElement(θ[3]): -0.09376326172651375},\n",
      "    'optimal_point': array([ 0.98207311,  0.80018895,  1.53399541, -0.09376326,  0.32419132,\n",
      "       -0.46460491,  1.00160975,  1.11991745]),\n",
      "    'optimal_value': -2.8925,\n",
      "    'optimizer_evals': None,\n",
      "    'optimizer_result': <qiskit.algorithms.optimizers.optimizer.OptimizerResult object at 0x7f8d7957b190>,\n",
      "    'optimizer_time': 1039.5617501735687}\n"
     ]
    }
   ],
   "source": [
    "from qiskit_ibm_runtime import Estimator as RuntimeEstimator\n",
    "from qiskit_ibm_runtime import Session\n",
    "\n",
    "# Run VQE with the simulator. Using noise model and specifications from ManilaV2\n",
    "with Session(service=service, backend=backend) as session:\n",
    "    estimator = RuntimeEstimator(session=session, options=options)\n",
    "    vqe = VQE(estimator, ansatz, optimizer, initial_point=np.ones(8))\n",
    "    result=vqe.compute_minimum_eigenvalue(observable_1)\n",
    "    session.close()\n",
    "\n",
    "print(result)"
   ]
  },
  {
   "cell_type": "code",
   "execution_count": 37,
   "metadata": {},
   "outputs": [
    {
     "name": "stdout",
     "output_type": "stream",
     "text": [
      "The lowest eigenvalue obtained with the noisy backend is -2.8925 and its statevector is Statevector([ 0.48156116-0.55750713j, -0.00430923+0.0539958j ,\n",
      "              0.067192  +0.00612773j,  0.4027422 -0.53628066j],\n",
      "            dims=(2, 2)).\n",
      " The ideal eigenvalue is -6 and its eigenvector is [0.70710678 0.         0.         0.70710678]\n"
     ]
    }
   ],
   "source": [
    "from qiskit.quantum_info import Statevector\n",
    "opt_qc = result.optimal_circuit.bind_parameters(result.optimal_parameters)\n",
    "\n",
    "opt_vector = Statevector.from_instruction(opt_qc)\n",
    "\n",
    "print(f\"The lowest eigenvalue obtained with the noisy backend is {result.eigenvalue} and its statevector is {opt_vector}.\\n The ideal eigenvalue is {-6} and its eigenvector is {[1,0,0,1]/np.sqrt(2)}\")"
   ]
  },
  {
   "cell_type": "markdown",
   "metadata": {},
   "source": []
  },
  {
   "cell_type": "code",
   "execution_count": 38,
   "metadata": {},
   "outputs": [],
   "source": [
    "# Now I set optimization level from 0 to 3\n",
    "\n",
    "options.optimization_level=3"
   ]
  },
  {
   "cell_type": "code",
   "execution_count": 39,
   "metadata": {},
   "outputs": [
    {
     "name": "stdout",
     "output_type": "stream",
     "text": [
      "{   'aux_operators_evaluated': None,\n",
      "    'cost_function_evals': 109,\n",
      "    'eigenvalue': -2.114,\n",
      "    'optimal_circuit': <qiskit.circuit.library.n_local.two_local.TwoLocal object at 0x7f8d4a617df0>,\n",
      "    'optimal_parameters': {   ParameterVectorElement(θ[4]): 0.4255628733597645,\n",
      "                              ParameterVectorElement(θ[1]): 1.6544916184480472,\n",
      "                              ParameterVectorElement(θ[2]): 1.7515580196365972,\n",
      "                              ParameterVectorElement(θ[0]): 0.9815603580918606,\n",
      "                              ParameterVectorElement(θ[7]): 1.0325870598971691,\n",
      "                              ParameterVectorElement(θ[6]): 0.571965339112318,\n",
      "                              ParameterVectorElement(θ[5]): -0.03588440681458477,\n",
      "                              ParameterVectorElement(θ[3]): 0.4293629817469658},\n",
      "    'optimal_point': array([ 0.98156036,  1.65449162,  1.75155802,  0.42936298,  0.42556287,\n",
      "       -0.03588441,  0.57196534,  1.03258706]),\n",
      "    'optimal_value': -2.114,\n",
      "    'optimizer_evals': None,\n",
      "    'optimizer_result': <qiskit.algorithms.optimizers.optimizer.OptimizerResult object at 0x7f8d49dcb3a0>,\n",
      "    'optimizer_time': 1048.2575478553772}\n"
     ]
    }
   ],
   "source": [
    "with Session(service=service, backend=backend) as session:\n",
    "    estimator = RuntimeEstimator(session=session, options=options)\n",
    "    vqe = VQE(estimator, ansatz, optimizer, initial_point=np.ones(8))\n",
    "    result=vqe.compute_minimum_eigenvalue(observable_1)\n",
    "    session.close()\n",
    "\n",
    "#results are worse?\n",
    "print(result)"
   ]
  },
  {
   "cell_type": "code",
   "execution_count": 40,
   "metadata": {},
   "outputs": [
    {
     "name": "stdout",
     "output_type": "stream",
     "text": [
      "The lowest eigenvalue obtained with the noisy backend is -2.114 and its statevector is Statevector([ 0.05537087-0.51523551j, -0.08189146+0.06527286j,\n",
      "             -0.07060588-0.22350256j,  0.31278807-0.75347509j],\n",
      "            dims=(2, 2)).\n",
      " The ideal eigenvalue is -6 and its eigenvector is [0.70710678 0.         0.         0.70710678]\n"
     ]
    }
   ],
   "source": [
    "opt_qc = result.optimal_circuit.bind_parameters(result.optimal_parameters)\n",
    "\n",
    "opt_vector = Statevector.from_instruction(opt_qc)\n",
    "\n",
    "print(f\"The lowest eigenvalue obtained with the noisy backend is {result.eigenvalue} and its statevector is {opt_vector}.\\n The ideal eigenvalue is {-6} and its eigenvector is {[1,0,0,1]/np.sqrt(2)}\")"
   ]
  },
  {
   "cell_type": "code",
   "execution_count": 43,
   "metadata": {},
   "outputs": [],
   "source": [
    "# now increase resilience from 0 to 2\n",
    "# if I try setting it to 3 I get a big error\n",
    "\n",
    "# TLDR: optimization level 3 and resilience level 2.\n",
    "\n",
    "options.resilience_level=2"
   ]
  },
  {
   "cell_type": "code",
   "execution_count": 44,
   "metadata": {},
   "outputs": [
    {
     "name": "stdout",
     "output_type": "stream",
     "text": [
      "{   'aux_operators_evaluated': None,\n",
      "    'cost_function_evals': 83,\n",
      "    'eigenvalue': -2.923708333333334,\n",
      "    'optimal_circuit': <qiskit.circuit.library.n_local.two_local.TwoLocal object at 0x7f8d88c45c10>,\n",
      "    'optimal_parameters': {   ParameterVectorElement(θ[4]): -0.6335036061459515,\n",
      "                              ParameterVectorElement(θ[1]): 0.938422873789936,\n",
      "                              ParameterVectorElement(θ[2]): 2.0155502986375167,\n",
      "                              ParameterVectorElement(θ[0]): 2.571870785017809,\n",
      "                              ParameterVectorElement(θ[7]): 0.7661055675182433,\n",
      "                              ParameterVectorElement(θ[6]): 0.5827886981503744,\n",
      "                              ParameterVectorElement(θ[5]): 0.2027088136074269,\n",
      "                              ParameterVectorElement(θ[3]): 0.43306167578186194},\n",
      "    'optimal_point': array([ 2.57187079,  0.93842287,  2.0155503 ,  0.43306168, -0.63350361,\n",
      "        0.20270881,  0.5827887 ,  0.76610557]),\n",
      "    'optimal_value': -2.923708333333334,\n",
      "    'optimizer_evals': None,\n",
      "    'optimizer_result': <qiskit.algorithms.optimizers.optimizer.OptimizerResult object at 0x7f8d98faaa90>,\n",
      "    'optimizer_time': 792.0174448490143}\n"
     ]
    }
   ],
   "source": [
    "with Session(service=service, backend=backend) as session:\n",
    "    estimator = RuntimeEstimator(session=session, options=options)\n",
    "    vqe = VQE(estimator, ansatz, optimizer, initial_point=np.ones(8))\n",
    "    result=vqe.compute_minimum_eigenvalue(observable_1)\n",
    "    session.close()\n",
    "\n",
    "#results improved but very close to the noisy ones without mitigation\n",
    "print(result)"
   ]
  },
  {
   "cell_type": "code",
   "execution_count": 45,
   "metadata": {},
   "outputs": [
    {
     "name": "stdout",
     "output_type": "stream",
     "text": [
      "The lowest eigenvalue obtained with the noisy backend is -2.923708333333334 and its statevector is Statevector([-0.00221264-0.46476089j,  0.02506441+0.01250652j,\n",
      "              0.12609586-0.06683508j, -0.31360759-0.81516316j],\n",
      "            dims=(2, 2)).\n",
      " The ideal eigenvalue is -6 and its eigenvector is [0.70710678 0.         0.         0.70710678]\n"
     ]
    }
   ],
   "source": [
    "opt_qc = result.optimal_circuit.bind_parameters(result.optimal_parameters)\n",
    "\n",
    "opt_vector = Statevector.from_instruction(opt_qc)\n",
    "\n",
    "print(f\"The lowest eigenvalue obtained with the noisy backend is {result.eigenvalue} and its statevector is {opt_vector}.\\n The ideal eigenvalue is {-6} and its eigenvector is {[1,0,0,1]/np.sqrt(2)}\")"
   ]
  },
  {
   "cell_type": "code",
   "execution_count": 46,
   "metadata": {},
   "outputs": [],
   "source": [
    "# Increase shots from 4000 to 15000\n",
    "\n",
    "options.execution.shots = 15000"
   ]
  },
  {
   "cell_type": "code",
   "execution_count": 47,
   "metadata": {},
   "outputs": [
    {
     "name": "stdout",
     "output_type": "stream",
     "text": [
      "{   'aux_operators_evaluated': None,\n",
      "    'cost_function_evals': 106,\n",
      "    'eigenvalue': -2.11067777777778,\n",
      "    'optimal_circuit': <qiskit.circuit.library.n_local.two_local.TwoLocal object at 0x7f8d4ac58940>,\n",
      "    'optimal_parameters': {   ParameterVectorElement(θ[4]): 0.48089587876282636,\n",
      "                              ParameterVectorElement(θ[1]): 0.6484453878422833,\n",
      "                              ParameterVectorElement(θ[2]): 1.597114007716419,\n",
      "                              ParameterVectorElement(θ[0]): 2.0405870548887526,\n",
      "                              ParameterVectorElement(θ[7]): 0.7555445275574956,\n",
      "                              ParameterVectorElement(θ[6]): 0.5306666537159748,\n",
      "                              ParameterVectorElement(θ[5]): -0.4573584952061418,\n",
      "                              ParameterVectorElement(θ[3]): 0.1324424199027691},\n",
      "    'optimal_point': array([ 2.04058705,  0.64844539,  1.59711401,  0.13244242,  0.48089588,\n",
      "       -0.4573585 ,  0.53066665,  0.75554453]),\n",
      "    'optimal_value': -2.11067777777778,\n",
      "    'optimizer_evals': None,\n",
      "    'optimizer_result': <qiskit.algorithms.optimizers.optimizer.OptimizerResult object at 0x7f8d4ac58550>,\n",
      "    'optimizer_time': 1098.7679657936096}\n"
     ]
    }
   ],
   "source": [
    "with Session(service=service, backend=backend) as session:\n",
    "    estimator = RuntimeEstimator(session=session, options=options)\n",
    "    vqe = VQE(estimator, ansatz, optimizer, initial_point=np.ones(8))\n",
    "    result=vqe.compute_minimum_eigenvalue(observable_1)\n",
    "    session.close()\n",
    "\n",
    "# Results are actually worse\n",
    "print(result)"
   ]
  },
  {
   "cell_type": "code",
   "execution_count": 48,
   "metadata": {},
   "outputs": [
    {
     "name": "stdout",
     "output_type": "stream",
     "text": [
      "The lowest eigenvalue obtained with the noisy backend is -2.11067777777778 and its statevector is Statevector([ 0.14578419-0.65252591j,  0.00444431+0.0531297j ,\n",
      "             -0.00122714-0.10950252j,  0.17362176-0.71272545j],\n",
      "            dims=(2, 2)).\n",
      " The ideal eigenvalue is -6 and its eigenvector is [0.70710678 0.         0.         0.70710678]\n"
     ]
    }
   ],
   "source": [
    "opt_qc = result.optimal_circuit.bind_parameters(result.optimal_parameters)\n",
    "\n",
    "opt_vector = Statevector.from_instruction(opt_qc)\n",
    "\n",
    "print(f\"The lowest eigenvalue obtained with the noisy backend is {result.eigenvalue} and its statevector is {opt_vector}.\\n The ideal eigenvalue is {-6} and its eigenvector is {[1,0,0,1]/np.sqrt(2)}\")"
   ]
  },
  {
   "cell_type": "code",
   "execution_count": 53,
   "metadata": {},
   "outputs": [
    {
     "name": "stdout",
     "output_type": "stream",
     "text": [
      "EstimatorResult(values=array([-2.11223333]), metadata=[{'zne': {'noise_amplification': {'noise_amplifier': \"<TwoQubitAmplifier:{'noise_factor_relative_tolerance': 0.01, 'random_seed': None, 'sub_folding_option': 'from_first'}>\", 'noise_factors': [1, 3, 5], 'values': [-2.9354666666666667, -2.7429333333333332, -4.757200000000001], 'variance': [13.585477155555557, 14.234941048888889, 6.278696799999999], 'shots': [15000, 15000, 15000]}, 'extrapolation': {'extrapolator': 'LinearExtrapolator'}}}])\n"
     ]
    }
   ],
   "source": [
    "# the state seemed fine at first sight even though the eigenvalue given by estimator was not.\n",
    "# I'll compare the result of estimator for the optimal statevector for the noisy and noiseless estimators.\n",
    "\n",
    "# Noisy gives a very bad result\n",
    "\n",
    "with Session(service=service, backend=backend) as session:\n",
    "    estimator = RuntimeEstimator(session=session, options=options)\n",
    "    resultado=estimator.run(opt_qc, observable_1).result()\n",
    "    session.close()\n",
    "\n",
    "print(resultado)"
   ]
  },
  {
   "cell_type": "code",
   "execution_count": 54,
   "metadata": {},
   "outputs": [
    {
     "name": "stdout",
     "output_type": "stream",
     "text": [
      "EstimatorResult(values=array([-5.7845]), metadata=[{'variance': 1.1220907500000008, 'shots': 4000, 'readout_mitigation_num_twirled_circuits': 16, 'readout_mitigation_shots_calibration': 8192}])\n"
     ]
    }
   ],
   "source": [
    "# noiseless gives a reasonable one (close to the ideal of -6) for the exact same state\n",
    "\n",
    "with Session(service=service, backend=backend) as session:\n",
    "    estimator = RuntimeEstimator(session=session)\n",
    "    resultado=estimator.run(opt_qc, observable_1).result()\n",
    "    session.close()\n",
    "\n",
    "print(resultado)"
   ]
  },
  {
   "cell_type": "markdown",
   "metadata": {},
   "source": [
    "----------------------"
   ]
  },
  {
   "cell_type": "markdown",
   "metadata": {},
   "source": [
    "-----------------"
   ]
  },
  {
   "cell_type": "code",
   "execution_count": null,
   "metadata": {},
   "outputs": [],
   "source": [
    "## Here I repeat everything for FakeManila instead of FakeManilaV2\n",
    "## following this how-to guide https://qiskit.org/documentation/partners/qiskit_ibm_runtime/how_to/noisy_simulators.html"
   ]
  },
  {
   "cell_type": "code",
   "execution_count": 57,
   "metadata": {},
   "outputs": [],
   "source": [
    "from qiskit.providers.fake_provider import FakeManila\n",
    "from qiskit_aer.noise import NoiseModel\n",
    "\n",
    "fake_backend = FakeManila()\n",
    "noise_model = NoiseModel.from_backend(fake_backend)"
   ]
  },
  {
   "cell_type": "code",
   "execution_count": 62,
   "metadata": {},
   "outputs": [
    {
     "name": "stdout",
     "output_type": "stream",
     "text": [
      "Options(optimization_level=3, resilience_level=1, max_execution_time=None, transpilation=TranspilationOptions(skip_transpilation=False, initial_layout=None, layout_method=None, routing_method=None, approximation_degree=None), resilience=ResilienceOptions(noise_amplifier='TwoQubitAmplifier', noise_factors=(1, 3, 5), extrapolator='LinearExtrapolator'), execution=ExecutionOptions(shots=4000, init_qubits=True), environment=EnvironmentOptions(log_level='WARNING', callback=None, job_tags=[]), simulator=SimulatorOptions(noise_model=None, seed_simulator=None, coupling_map=None, basis_gates=None))\n"
     ]
    }
   ],
   "source": [
    "from qiskit_ibm_runtime import Options\n",
    "\n",
    "options = Options()\n",
    "print(options)"
   ]
  },
  {
   "cell_type": "code",
   "execution_count": 63,
   "metadata": {},
   "outputs": [],
   "source": [
    "options.simulator = {\n",
    "    \"noise_model\": noise_model,\n",
    "    \"basis_gates\": fake_backend.configuration().basis_gates,\n",
    "    \"coupling_map\": fake_backend.configuration().coupling_map,\n",
    "    \"seed_simulator\": 42\n",
    "}\n",
    "\n",
    "options.optimization_level=0\n",
    "options.resilience_level=0"
   ]
  },
  {
   "cell_type": "code",
   "execution_count": 64,
   "metadata": {},
   "outputs": [
    {
     "name": "stdout",
     "output_type": "stream",
     "text": [
      "{   'aux_operators_evaluated': None,\n",
      "    'cost_function_evals': 94,\n",
      "    'eigenvalue': -3.176,\n",
      "    'optimal_circuit': <qiskit.circuit.library.n_local.two_local.TwoLocal object at 0x7f8d4a74b700>,\n",
      "    'optimal_parameters': {   ParameterVectorElement(θ[4]): -0.4665827093417174,\n",
      "                              ParameterVectorElement(θ[1]): 0.5477959316826215,\n",
      "                              ParameterVectorElement(θ[2]): 1.370788426817056,\n",
      "                              ParameterVectorElement(θ[0]): 0.5915888215126729,\n",
      "                              ParameterVectorElement(θ[7]): 0.5015213611611776,\n",
      "                              ParameterVectorElement(θ[6]): 0.5622207907084168,\n",
      "                              ParameterVectorElement(θ[5]): 0.43501942583131187,\n",
      "                              ParameterVectorElement(θ[3]): 0.028950711403947456},\n",
      "    'optimal_point': array([ 0.59158882,  0.54779593,  1.37078843,  0.02895071, -0.46658271,\n",
      "        0.43501943,  0.56222079,  0.50152136]),\n",
      "    'optimal_value': -3.176,\n",
      "    'optimizer_evals': None,\n",
      "    'optimizer_result': <qiskit.algorithms.optimizers.optimizer.OptimizerResult object at 0x7f8d88c39eb0>,\n",
      "    'optimizer_time': 753.9714751243591}\n"
     ]
    }
   ],
   "source": [
    "from qiskit_ibm_runtime import Estimator as RuntimeEstimator\n",
    "from qiskit_ibm_runtime import Session\n",
    "\n",
    "with Session(service=service, backend=backend) as session:\n",
    "    estimator = RuntimeEstimator(session=session, options=options)\n",
    "    vqe = VQE(estimator, ansatz, optimizer, initial_point=np.ones(8))\n",
    "    result=vqe.compute_minimum_eigenvalue(observable_1)\n",
    "    session.close()\n",
    "\n",
    "print(result)"
   ]
  },
  {
   "cell_type": "code",
   "execution_count": 65,
   "metadata": {},
   "outputs": [
    {
     "name": "stdout",
     "output_type": "stream",
     "text": [
      "The lowest eigenvalue obtained with the noisy backend is -3.176 and its statevector is Statevector([0.64509145-0.4006265j , 0.05486349-0.03322671j,\n",
      "             0.02521163-0.00378024j, 0.54039736-0.3557558j ],\n",
      "            dims=(2, 2)).\n",
      " The ideal eigenvalue is -6 and its eigenvector is [0.70710678 0.         0.         0.70710678]\n"
     ]
    }
   ],
   "source": [
    "from qiskit.quantum_info import Statevector\n",
    "opt_qc = result.optimal_circuit.bind_parameters(result.optimal_parameters)\n",
    "\n",
    "opt_vector = Statevector.from_instruction(opt_qc)\n",
    "\n",
    "print(f\"The lowest eigenvalue obtained with the noisy backend is {result.eigenvalue} and its statevector is {opt_vector}.\\n The ideal eigenvalue is {-6} and its eigenvector is {[1,0,0,1]/np.sqrt(2)}\")"
   ]
  },
  {
   "cell_type": "code",
   "execution_count": 66,
   "metadata": {},
   "outputs": [],
   "source": [
    "# increase optimization level from 0 to 3\n",
    "\n",
    "options.optimization_level=3"
   ]
  },
  {
   "cell_type": "code",
   "execution_count": 67,
   "metadata": {},
   "outputs": [
    {
     "name": "stdout",
     "output_type": "stream",
     "text": [
      "{   'aux_operators_evaluated': None,\n",
      "    'cost_function_evals': 106,\n",
      "    'eigenvalue': -4.92,\n",
      "    'optimal_circuit': <qiskit.circuit.library.n_local.two_local.TwoLocal object at 0x7f8d88c1e340>,\n",
      "    'optimal_parameters': {   ParameterVectorElement(θ[4]): 0.805423654478983,\n",
      "                              ParameterVectorElement(θ[1]): 1.6233571333867338,\n",
      "                              ParameterVectorElement(θ[2]): 1.2984005449852456,\n",
      "                              ParameterVectorElement(θ[0]): 2.3252286893226737,\n",
      "                              ParameterVectorElement(θ[7]): 0.3223537207814225,\n",
      "                              ParameterVectorElement(θ[6]): 0.32040271407351006,\n",
      "                              ParameterVectorElement(θ[5]): -0.628521397714879,\n",
      "                              ParameterVectorElement(θ[3]): 0.11939707544341194},\n",
      "    'optimal_point': array([ 2.32522869,  1.62335713,  1.29840054,  0.11939708,  0.80542365,\n",
      "       -0.6285214 ,  0.32040271,  0.32235372]),\n",
      "    'optimal_value': -4.92,\n",
      "    'optimizer_evals': None,\n",
      "    'optimizer_result': <qiskit.algorithms.optimizers.optimizer.OptimizerResult object at 0x7f8d58b00370>,\n",
      "    'optimizer_time': 981.7263839244843}\n"
     ]
    }
   ],
   "source": [
    "with Session(service=service, backend=backend) as session:\n",
    "    estimator = RuntimeEstimator(session=session, options=options)\n",
    "    vqe = VQE(estimator, ansatz, optimizer, initial_point=np.ones(8))\n",
    "    result=vqe.compute_minimum_eigenvalue(observable_1)\n",
    "    session.close()\n",
    "\n",
    "# the result now is a lot better than when I did the same for V2. Why?\n",
    "print(result)"
   ]
  },
  {
   "cell_type": "code",
   "execution_count": 68,
   "metadata": {},
   "outputs": [
    {
     "name": "stdout",
     "output_type": "stream",
     "text": [
      "The lowest eigenvalue obtained with the noisy backend is -4.92 and its statevector is Statevector([-0.36572788-0.68892233j, -0.01757804-0.05235329j,\n",
      "             -0.07203698-0.03997119j, -0.19679434-0.58571687j],\n",
      "            dims=(2, 2)).\n",
      " The ideal eigenvalue is -6 and its eigenvector is [0.70710678 0.         0.         0.70710678]\n"
     ]
    }
   ],
   "source": [
    "opt_qc = result.optimal_circuit.bind_parameters(result.optimal_parameters)\n",
    "\n",
    "opt_vector = Statevector.from_instruction(opt_qc)\n",
    "\n",
    "print(f\"The lowest eigenvalue obtained with the noisy backend is {result.eigenvalue} and its statevector is {opt_vector}.\\n The ideal eigenvalue is {-6} and its eigenvector is {[1,0,0,1]/np.sqrt(2)}\")"
   ]
  },
  {
   "cell_type": "code",
   "execution_count": 74,
   "metadata": {},
   "outputs": [],
   "source": [
    "# increase resilience\n",
    "\n",
    "options.resilience_level=2"
   ]
  },
  {
   "cell_type": "code",
   "execution_count": 75,
   "metadata": {},
   "outputs": [
    {
     "name": "stdout",
     "output_type": "stream",
     "text": [
      "{   'aux_operators_evaluated': None,\n",
      "    'cost_function_evals': 94,\n",
      "    'eigenvalue': -3.910208333333335,\n",
      "    'optimal_circuit': <qiskit.circuit.library.n_local.two_local.TwoLocal object at 0x7f8da96a4610>,\n",
      "    'optimal_parameters': {   ParameterVectorElement(θ[4]): 0.09057496143145971,\n",
      "                              ParameterVectorElement(θ[1]): 0.8365992755447865,\n",
      "                              ParameterVectorElement(θ[2]): 0.8634746908630936,\n",
      "                              ParameterVectorElement(θ[0]): 1.1227730382899488,\n",
      "                              ParameterVectorElement(θ[7]): 0.4756368035581716,\n",
      "                              ParameterVectorElement(θ[6]): 0.1874815185784256,\n",
      "                              ParameterVectorElement(θ[5]): -0.31985329820336456,\n",
      "                              ParameterVectorElement(θ[3]): 0.02387590624703521},\n",
      "    'optimal_point': array([ 1.12277304,  0.83659928,  0.86347469,  0.02387591,  0.09057496,\n",
      "       -0.3198533 ,  0.18748152,  0.4756368 ]),\n",
      "    'optimal_value': -3.910208333333335,\n",
      "    'optimizer_evals': None,\n",
      "    'optimizer_result': <qiskit.algorithms.optimizers.optimizer.OptimizerResult object at 0x7f8d88c4ef10>,\n",
      "    'optimizer_time': 959.2112791538239}\n"
     ]
    }
   ],
   "source": [
    "with Session(service=service, backend=backend) as session:\n",
    "    estimator = RuntimeEstimator(session=session, options=options)\n",
    "    vqe = VQE(estimator, ansatz, optimizer, initial_point=np.ones(8))\n",
    "    result=vqe.compute_minimum_eigenvalue(observable_1)\n",
    "    session.close()\n",
    "\n",
    "# the result now is a lot worse!\n",
    "print(result)"
   ]
  },
  {
   "cell_type": "code",
   "execution_count": 76,
   "metadata": {},
   "outputs": [
    {
     "name": "stdout",
     "output_type": "stream",
     "text": [
      "The lowest eigenvalue obtained with the noisy backend is -3.910208333333335 and its statevector is Statevector([0.57290379-0.67435614j, 0.01193843+0.02116916j,\n",
      "             0.12457245-0.13794706j, 0.19988431-0.37673991j],\n",
      "            dims=(2, 2)).\n",
      " The ideal eigenvalue is -6 and its eigenvector is [0.70710678 0.         0.         0.70710678]\n"
     ]
    }
   ],
   "source": [
    "opt_qc = result.optimal_circuit.bind_parameters(result.optimal_parameters)\n",
    "\n",
    "opt_vector = Statevector.from_instruction(opt_qc)\n",
    "\n",
    "print(f\"The lowest eigenvalue obtained with the noisy backend is {result.eigenvalue} and its statevector is {opt_vector}.\\n The ideal eigenvalue is {-6} and its eigenvector is {[1,0,0,1]/np.sqrt(2)}\")"
   ]
  },
  {
   "cell_type": "code",
   "execution_count": 72,
   "metadata": {},
   "outputs": [],
   "source": [
    "# see what happens when I set resilience level to 3\n",
    "\n",
    "options.resilience_level=3"
   ]
  },
  {
   "cell_type": "code",
   "execution_count": 73,
   "metadata": {},
   "outputs": [
    {
     "ename": "AlgorithmError",
     "evalue": "'The primitive job to evaluate the energy failed!'",
     "output_type": "error",
     "traceback": [
      "\u001b[0;31m---------------------------------------------------------------------------\u001b[0m",
      "\u001b[0;31mRuntimeJobFailureError\u001b[0m                    Traceback (most recent call last)",
      "\u001b[0;32m~/opt/anaconda3/envs/terra-dev/lib/python3.8/site-packages/qiskit/algorithms/minimum_eigensolvers/vqe.py\u001b[0m in \u001b[0;36mevaluate_energy\u001b[0;34m(parameters)\u001b[0m\n\u001b[1;32m    253\u001b[0m                 \u001b[0mjob\u001b[0m \u001b[0;34m=\u001b[0m \u001b[0mself\u001b[0m\u001b[0;34m.\u001b[0m\u001b[0mestimator\u001b[0m\u001b[0;34m.\u001b[0m\u001b[0mrun\u001b[0m\u001b[0;34m(\u001b[0m\u001b[0mbatch_size\u001b[0m \u001b[0;34m*\u001b[0m \u001b[0;34m[\u001b[0m\u001b[0mansatz\u001b[0m\u001b[0;34m]\u001b[0m\u001b[0;34m,\u001b[0m \u001b[0mbatch_size\u001b[0m \u001b[0;34m*\u001b[0m \u001b[0;34m[\u001b[0m\u001b[0moperator\u001b[0m\u001b[0;34m]\u001b[0m\u001b[0;34m,\u001b[0m \u001b[0mparameters\u001b[0m\u001b[0;34m)\u001b[0m\u001b[0;34m\u001b[0m\u001b[0;34m\u001b[0m\u001b[0m\n\u001b[0;32m--> 254\u001b[0;31m                 \u001b[0mestimator_result\u001b[0m \u001b[0;34m=\u001b[0m \u001b[0mjob\u001b[0m\u001b[0;34m.\u001b[0m\u001b[0mresult\u001b[0m\u001b[0;34m(\u001b[0m\u001b[0;34m)\u001b[0m\u001b[0;34m\u001b[0m\u001b[0;34m\u001b[0m\u001b[0m\n\u001b[0m\u001b[1;32m    255\u001b[0m             \u001b[0;32mexcept\u001b[0m \u001b[0mException\u001b[0m \u001b[0;32mas\u001b[0m \u001b[0mexc\u001b[0m\u001b[0;34m:\u001b[0m\u001b[0;34m\u001b[0m\u001b[0;34m\u001b[0m\u001b[0m\n",
      "\u001b[0;32m~/opt/anaconda3/envs/terra-dev/lib/python3.8/site-packages/qiskit_ibm_runtime/runtime_job.py\u001b[0m in \u001b[0;36mresult\u001b[0;34m(self, timeout, decoder)\u001b[0m\n\u001b[1;32m    201\u001b[0m                     \u001b[0;32mraise\u001b[0m \u001b[0mRuntimeJobMaxTimeoutError\u001b[0m\u001b[0;34m(\u001b[0m\u001b[0merror_message\u001b[0m\u001b[0;34m)\u001b[0m\u001b[0;34m\u001b[0m\u001b[0;34m\u001b[0m\u001b[0m\n\u001b[0;32m--> 202\u001b[0;31m                 raise RuntimeJobFailureError(\n\u001b[0m\u001b[1;32m    203\u001b[0m                     \u001b[0;34mf\"Unable to retrieve job result. \"\u001b[0m \u001b[0;34mf\"{error_message}\"\u001b[0m\u001b[0;34m\u001b[0m\u001b[0;34m\u001b[0m\u001b[0m\n",
      "\u001b[0;31mRuntimeJobFailureError\u001b[0m: 'Unable to retrieve job result. Job cfml099te0bckvp1uqn0 has failed:\\n2023-02-15T21:35:10.506561151Z Setting up watches.\\n2023-02-15T21:35:10.506605965Z Watches established.\\n2023-02-15T21:35:12.139840814Z INFO:     Started server process [7]\\n2023-02-15T21:35:12.139878766Z INFO:     Waiting for application startup.\\n2023-02-15T21:35:12.139995923Z INFO:     Application startup complete.\\n2023-02-15T21:35:12.142804908Z INFO:     Uvicorn running on http://127.0.0.1:8081 (Press CTRL+C to quit)\\n2023-02-15T21:35:33.803915583Z INFO:     127.0.0.1:56804 - \"POST /run HTTP/1.1\" 202 Accepted\\n2023-02-15T21:35:35.523474453Z program - WARNING Backend (qasm_simulator) does not support dynamical decoupling.\\n2023-02-15T21:35:35.611261054Z --- Logging error ---\\n2023-02-15T21:35:35.613114920Z Traceback (most recent call last):\\n2023-02-15T21:35:35.613150585Z   File \"/provider/programruntime/program_starter_wrapper.py\", line 91, in execute\\n2023-02-15T21:35:35.613164410Z     final_result = self.main(backend, self.messenger, **self.user_params)\\n2023-02-15T21:35:35.613175577Z   File \"/code/./program.py\", line 1467, in main\\n2023-02-15T21:35:35.613187367Z     result = estimator.run(\\n2023-02-15T21:35:35.613260999Z   File \"/opt/app-root/lib64/python3.9/site-packages/pec_runtime/primitives/estimator.py\", line 212, in run\\n2023-02-15T21:35:35.613284992Z     return self._run(\\n2023-02-15T21:35:35.613294778Z   File \"/opt/app-root/lib64/python3.9/site-packages/pec_runtime/primitives/estimator.py\", line 230, in _run\\n2023-02-15T21:35:35.613304224Z     circuit_templates = self._generate_circuit_templates(\\n2023-02-15T21:35:35.613314789Z   File \"/opt/app-root/lib64/python3.9/site-packages/pec_runtime/primitives/estimator.py\", line 362, in _generate_circuit_templates\\n2023-02-15T21:35:35.613325929Z     transpiled_circuits = [self.transpiled_circuits[i] for i in circuit_indices]\\n2023-02-15T21:35:35.613336589Z   File \"/opt/app-root/lib64/python3.9/site-packages/pec_runtime/primitives/estimator.py\", line 362, in <listcomp>\\n2023-02-15T21:35:35.613346470Z     transpiled_circuits = [self.transpiled_circuits[i] for i in circuit_indices]\\n2023-02-15T21:35:35.613356877Z   File \"/opt/app-root/lib64/python3.9/site-packages/pec_runtime/primitives/estimator.py\", line 458, in transpiled_circuits\\n2023-02-15T21:35:35.613366529Z     self._transpiled_circuits = twirled_transpile(\\n2023-02-15T21:35:35.613376280Z   File \"/opt/app-root/lib64/python3.9/site-packages/pec_runtime/utils/twirled_transpile.py\", line 117, in twirled_transpile\\n2023-02-15T21:35:35.613387006Z     layers = stratify_circuit_into_layers(\\n2023-02-15T21:35:35.613398591Z   File \"/opt/app-root/lib64/python3.9/site-packages/pec_runtime/utils/stratify.py\", line 383, in stratify_circuit_into_layers\\n2023-02-15T21:35:35.613405989Z     raise QiskitError(\"Provide a coupling map\")\\n2023-02-15T21:35:35.613414780Z qiskit.exceptions.QiskitError: \\'Provide a coupling map\\'\\n2023-02-15T21:35:35.613423747Z \\n2023-02-15T21:35:35.613433955Z During handling of the above exception, another exception occurred:\\n2023-02-15T21:35:35.613442632Z \\n2023-02-15T21:35:35.613450803Z Traceback (most recent call last):\\n2023-02-15T21:35:35.613508923Z   File \"/usr/lib64/python3.9/logging/__init__.py\", line 1083, in emit\\n2023-02-15T21:35:35.613527248Z     msg = self.format(record)\\n2023-02-15T21:35:35.613538418Z   File \"/usr/lib64/python3.9/logging/__init__.py\", line 927, in format\\n2023-02-15T21:35:35.613549392Z     return fmt.format(record)\\n2023-02-15T21:35:35.613561129Z   File \"/usr/lib64/python3.9/logging/__init__.py\", line 663, in format\\n2023-02-15T21:35:35.613586494Z     record.message = record.getMessage()\\n2023-02-15T21:35:35.613598938Z   File \"/usr/lib64/python3.9/logging/__init__.py\", line 367, in getMessage\\n2023-02-15T21:35:35.613609856Z     msg = msg % self.args\\n2023-02-15T21:35:35.613638872Z TypeError: not all arguments converted during string formatting\\n2023-02-15T21:35:35.613667753Z Call stack:\\n2023-02-15T21:35:35.630798851Z   File \"/usr/lib64/python3.9/threading.py\", line 937, in _bootstrap\\n2023-02-15T21:35:35.630833975Z     self._bootstrap_inner()\\n2023-02-15T21:35:35.630844232Z   File \"/usr/lib64/python3.9/threading.py\", line 980, in _bootstrap_inner\\n2023-02-15T21:35:35.630852338Z     self.run()\\n2023-02-15T21:35:35.630862242Z   File \"/opt/app-root/lib64/python3.9/site-packages/anyio/_backends/_asyncio.py\", line 867, in run\\n2023-02-15T21:35:35.630872579Z     result = context.run(func, *args)\\n2023-02-15T21:35:35.630881418Z   File \"/provider/server/main.py\", line 75, in execute_program\\n2023-02-15T21:35:35.630888741Z     starter.execute()\\n2023-02-15T21:35:35.630897369Z   File \"/provider/programruntime/program_starter_wrapper.py\", line 95, in execute\\n2023-02-15T21:35:35.630906008Z     logger.error(\\n2023-02-15T21:35:35.630917951Z Message: \\'Error executing program job cfml099te0bckvp1uqn0\\'\\n2023-02-15T21:35:35.630924674Z Arguments: (QiskitError(\\'Provide a coupling map\\'),)\\n2023-02-15T21:35:35.631848216Z webserver-starter - ERROR Failed to execute program: \\'Provide a coupling map\\'\\n2023-02-15T21:35:35.631907795Z Traceback (most recent call last):\\n2023-02-15T21:35:35.631937223Z   File \"/provider/server/main.py\", line 75, in execute_program\\n2023-02-15T21:35:35.631960581Z     starter.execute()\\n2023-02-15T21:35:35.632014074Z   File \"/provider/programruntime/program_starter_wrapper.py\", line 99, in execute\\n2023-02-15T21:35:35.632033794Z     raise ex\\n2023-02-15T21:35:35.632052588Z   File \"/provider/programruntime/program_starter_wrapper.py\", line 91, in execute\\n2023-02-15T21:35:35.632071971Z     final_result = self.main(backend, self.messenger, **self.user_params)\\n2023-02-15T21:35:35.632087753Z   File \"/code/./program.py\", line 1467, in main\\n2023-02-15T21:35:35.632105787Z     result = estimator.run(\\n2023-02-15T21:35:35.632124200Z   File \"/opt/app-root/lib64/python3.9/site-packages/pec_runtime/primitives/estimator.py\", line 212, in run\\n2023-02-15T21:35:35.632142123Z     return self._run(\\n2023-02-15T21:35:35.632160806Z   File \"/opt/app-root/lib64/python3.9/site-packages/pec_runtime/primitives/estimator.py\", line 230, in _run\\n2023-02-15T21:35:35.632178184Z     circuit_templates = self._generate_circuit_templates(\\n2023-02-15T21:35:35.632196126Z   File \"/opt/app-root/lib64/python3.9/site-packages/pec_runtime/primitives/estimator.py\", line 362, in _generate_circuit_templates\\n2023-02-15T21:35:35.632213633Z     transpiled_circuits = [self.transpiled_circuits[i] for i in circuit_indices]\\n2023-02-15T21:35:35.632231564Z   File \"/opt/app-root/lib64/python3.9/site-packages/pec_runtime/primitives/estimator.py\", line 362, in <listcomp>\\n2023-02-15T21:35:35.632248203Z     transpiled_circuits = [self.transpiled_circuits[i] for i in circuit_indices]\\n2023-02-15T21:35:35.632264983Z   File \"/opt/app-root/lib64/python3.9/site-packages/pec_runtime/primitives/estimator.py\", line 458, in transpiled_circuits\\n2023-02-15T21:35:35.632283456Z     self._transpiled_circuits = twirled_transpile(\\n2023-02-15T21:35:35.632299088Z   File \"/opt/app-root/lib64/python3.9/site-packages/pec_runtime/utils/twirled_transpile.py\", line 117, in twirled_transpile\\n2023-02-15T21:35:35.632317587Z     layers = stratify_circuit_into_layers(\\n2023-02-15T21:35:35.632333109Z   File \"/opt/app-root/lib64/python3.9/site-packages/pec_runtime/utils/stratify.py\", line 383, in stratify_circuit_into_layers\\n2023-02-15T21:35:35.632349964Z     raise QiskitError(\"Provide a coupling map\")\\n2023-02-15T21:35:35.632366914Z qiskit.exceptions.QiskitError: \\'Provide a coupling map\\'\\n2023-02-15T21:35:35.644724380Z /pod-data/ CLOSE_WRITE,CLOSE terminated\\n2023-02-15T21:35:35.645986693Z Termination marker file found. Kill process (7).\\n2023-02-15T21:35:35.670132408Z /bin/bash: line 3:     7 Killed                  python -m uvicorn server.main:app --port 8081\\n2023-02-15T21:35:35.670224197Z Termination signal received, exited.\\n'",
      "\nThe above exception was the direct cause of the following exception:\n",
      "\u001b[0;31mAlgorithmError\u001b[0m                            Traceback (most recent call last)",
      "\u001b[0;32m<ipython-input-73-7c48e2c64c3f>\u001b[0m in \u001b[0;36m<module>\u001b[0;34m\u001b[0m\n\u001b[1;32m      2\u001b[0m     \u001b[0mestimator\u001b[0m \u001b[0;34m=\u001b[0m \u001b[0mRuntimeEstimator\u001b[0m\u001b[0;34m(\u001b[0m\u001b[0msession\u001b[0m\u001b[0;34m=\u001b[0m\u001b[0msession\u001b[0m\u001b[0;34m,\u001b[0m \u001b[0moptions\u001b[0m\u001b[0;34m=\u001b[0m\u001b[0moptions\u001b[0m\u001b[0;34m)\u001b[0m\u001b[0;34m\u001b[0m\u001b[0;34m\u001b[0m\u001b[0m\n\u001b[1;32m      3\u001b[0m     \u001b[0mvqe\u001b[0m \u001b[0;34m=\u001b[0m \u001b[0mVQE\u001b[0m\u001b[0;34m(\u001b[0m\u001b[0mestimator\u001b[0m\u001b[0;34m,\u001b[0m \u001b[0mansatz\u001b[0m\u001b[0;34m,\u001b[0m \u001b[0moptimizer\u001b[0m\u001b[0;34m,\u001b[0m \u001b[0minitial_point\u001b[0m\u001b[0;34m=\u001b[0m\u001b[0mnp\u001b[0m\u001b[0;34m.\u001b[0m\u001b[0mones\u001b[0m\u001b[0;34m(\u001b[0m\u001b[0;36m8\u001b[0m\u001b[0;34m)\u001b[0m\u001b[0;34m)\u001b[0m\u001b[0;34m\u001b[0m\u001b[0;34m\u001b[0m\u001b[0m\n\u001b[0;32m----> 4\u001b[0;31m     \u001b[0mresult\u001b[0m\u001b[0;34m=\u001b[0m\u001b[0mvqe\u001b[0m\u001b[0;34m.\u001b[0m\u001b[0mcompute_minimum_eigenvalue\u001b[0m\u001b[0;34m(\u001b[0m\u001b[0mobservable\u001b[0m\u001b[0;34m)\u001b[0m\u001b[0;34m\u001b[0m\u001b[0;34m\u001b[0m\u001b[0m\n\u001b[0m\u001b[1;32m      5\u001b[0m     \u001b[0msession\u001b[0m\u001b[0;34m.\u001b[0m\u001b[0mclose\u001b[0m\u001b[0;34m(\u001b[0m\u001b[0;34m)\u001b[0m\u001b[0;34m\u001b[0m\u001b[0;34m\u001b[0m\u001b[0m\n\u001b[1;32m      6\u001b[0m \u001b[0;34m\u001b[0m\u001b[0m\n",
      "\u001b[0;32m~/opt/anaconda3/envs/terra-dev/lib/python3.8/site-packages/qiskit/algorithms/minimum_eigensolvers/vqe.py\u001b[0m in \u001b[0;36mcompute_minimum_eigenvalue\u001b[0;34m(self, operator, aux_operators)\u001b[0m\n\u001b[1;32m    189\u001b[0m             \u001b[0mwas_updated\u001b[0m \u001b[0;34m=\u001b[0m \u001b[0m_set_default_batchsize\u001b[0m\u001b[0;34m(\u001b[0m\u001b[0mself\u001b[0m\u001b[0;34m.\u001b[0m\u001b[0moptimizer\u001b[0m\u001b[0;34m)\u001b[0m\u001b[0;34m\u001b[0m\u001b[0;34m\u001b[0m\u001b[0m\n\u001b[1;32m    190\u001b[0m \u001b[0;34m\u001b[0m\u001b[0m\n\u001b[0;32m--> 191\u001b[0;31m             optimizer_result = self.optimizer.minimize(\n\u001b[0m\u001b[1;32m    192\u001b[0m                 \u001b[0mfun\u001b[0m\u001b[0;34m=\u001b[0m\u001b[0mevaluate_energy\u001b[0m\u001b[0;34m,\u001b[0m \u001b[0mx0\u001b[0m\u001b[0;34m=\u001b[0m\u001b[0minitial_point\u001b[0m\u001b[0;34m,\u001b[0m \u001b[0mjac\u001b[0m\u001b[0;34m=\u001b[0m\u001b[0mevaluate_gradient\u001b[0m\u001b[0;34m,\u001b[0m \u001b[0mbounds\u001b[0m\u001b[0;34m=\u001b[0m\u001b[0mbounds\u001b[0m\u001b[0;34m\u001b[0m\u001b[0;34m\u001b[0m\u001b[0m\n\u001b[1;32m    193\u001b[0m             )\n",
      "\u001b[0;32m~/opt/anaconda3/envs/terra-dev/lib/python3.8/site-packages/qiskit/algorithms/optimizers/scipy_optimizer.py\u001b[0m in \u001b[0;36mminimize\u001b[0;34m(self, fun, x0, jac, bounds)\u001b[0m\n\u001b[1;32m    146\u001b[0m             \u001b[0mself\u001b[0m\u001b[0;34m.\u001b[0m\u001b[0m_options\u001b[0m\u001b[0;34m[\u001b[0m\u001b[0;34m\"maxfun\"\u001b[0m\u001b[0;34m]\u001b[0m \u001b[0;34m=\u001b[0m \u001b[0mself\u001b[0m\u001b[0;34m.\u001b[0m\u001b[0m_options\u001b[0m\u001b[0;34m.\u001b[0m\u001b[0mpop\u001b[0m\u001b[0;34m(\u001b[0m\u001b[0;34m\"maxiter\"\u001b[0m\u001b[0;34m)\u001b[0m\u001b[0;34m\u001b[0m\u001b[0;34m\u001b[0m\u001b[0m\n\u001b[1;32m    147\u001b[0m \u001b[0;34m\u001b[0m\u001b[0m\n\u001b[0;32m--> 148\u001b[0;31m         raw_result = minimize(\n\u001b[0m\u001b[1;32m    149\u001b[0m             \u001b[0mfun\u001b[0m\u001b[0;34m=\u001b[0m\u001b[0mfun\u001b[0m\u001b[0;34m,\u001b[0m\u001b[0;34m\u001b[0m\u001b[0;34m\u001b[0m\u001b[0m\n\u001b[1;32m    150\u001b[0m             \u001b[0mx0\u001b[0m\u001b[0;34m=\u001b[0m\u001b[0mx0\u001b[0m\u001b[0;34m,\u001b[0m\u001b[0;34m\u001b[0m\u001b[0;34m\u001b[0m\u001b[0m\n",
      "\u001b[0;32m~/opt/anaconda3/envs/terra-dev/lib/python3.8/site-packages/scipy/optimize/_minimize.py\u001b[0m in \u001b[0;36mminimize\u001b[0;34m(fun, x0, args, method, jac, hess, hessp, bounds, constraints, tol, callback, options)\u001b[0m\n\u001b[1;32m    700\u001b[0m                             **options)\n\u001b[1;32m    701\u001b[0m     \u001b[0;32melif\u001b[0m \u001b[0mmeth\u001b[0m \u001b[0;34m==\u001b[0m \u001b[0;34m'cobyla'\u001b[0m\u001b[0;34m:\u001b[0m\u001b[0;34m\u001b[0m\u001b[0;34m\u001b[0m\u001b[0m\n\u001b[0;32m--> 702\u001b[0;31m         res = _minimize_cobyla(fun, x0, args, constraints, callback=callback,\n\u001b[0m\u001b[1;32m    703\u001b[0m                                 **options)\n\u001b[1;32m    704\u001b[0m     \u001b[0;32melif\u001b[0m \u001b[0mmeth\u001b[0m \u001b[0;34m==\u001b[0m \u001b[0;34m'slsqp'\u001b[0m\u001b[0;34m:\u001b[0m\u001b[0;34m\u001b[0m\u001b[0;34m\u001b[0m\u001b[0m\n",
      "\u001b[0;32m~/opt/anaconda3/envs/terra-dev/lib/python3.8/site-packages/scipy/optimize/_cobyla_py.py\u001b[0m in \u001b[0;36mwrapper\u001b[0;34m(*args, **kwargs)\u001b[0m\n\u001b[1;32m     32\u001b[0m     \u001b[0;32mdef\u001b[0m \u001b[0mwrapper\u001b[0m\u001b[0;34m(\u001b[0m\u001b[0;34m*\u001b[0m\u001b[0margs\u001b[0m\u001b[0;34m,\u001b[0m \u001b[0;34m**\u001b[0m\u001b[0mkwargs\u001b[0m\u001b[0;34m)\u001b[0m\u001b[0;34m:\u001b[0m\u001b[0;34m\u001b[0m\u001b[0;34m\u001b[0m\u001b[0m\n\u001b[1;32m     33\u001b[0m         \u001b[0;32mwith\u001b[0m \u001b[0m_module_lock\u001b[0m\u001b[0;34m:\u001b[0m\u001b[0;34m\u001b[0m\u001b[0;34m\u001b[0m\u001b[0m\n\u001b[0;32m---> 34\u001b[0;31m             \u001b[0;32mreturn\u001b[0m \u001b[0mfunc\u001b[0m\u001b[0;34m(\u001b[0m\u001b[0;34m*\u001b[0m\u001b[0margs\u001b[0m\u001b[0;34m,\u001b[0m \u001b[0;34m**\u001b[0m\u001b[0mkwargs\u001b[0m\u001b[0;34m)\u001b[0m\u001b[0;34m\u001b[0m\u001b[0;34m\u001b[0m\u001b[0m\n\u001b[0m\u001b[1;32m     35\u001b[0m     \u001b[0;32mreturn\u001b[0m \u001b[0mwrapper\u001b[0m\u001b[0;34m\u001b[0m\u001b[0;34m\u001b[0m\u001b[0m\n\u001b[1;32m     36\u001b[0m \u001b[0;34m\u001b[0m\u001b[0m\n",
      "\u001b[0;32m~/opt/anaconda3/envs/terra-dev/lib/python3.8/site-packages/scipy/optimize/_cobyla_py.py\u001b[0m in \u001b[0;36m_minimize_cobyla\u001b[0;34m(fun, x0, args, constraints, rhobeg, tol, maxiter, disp, catol, callback, **unknown_options)\u001b[0m\n\u001b[1;32m    268\u001b[0m \u001b[0;34m\u001b[0m\u001b[0m\n\u001b[1;32m    269\u001b[0m     \u001b[0minfo\u001b[0m \u001b[0;34m=\u001b[0m \u001b[0mnp\u001b[0m\u001b[0;34m.\u001b[0m\u001b[0mzeros\u001b[0m\u001b[0;34m(\u001b[0m\u001b[0;36m4\u001b[0m\u001b[0;34m,\u001b[0m \u001b[0mnp\u001b[0m\u001b[0;34m.\u001b[0m\u001b[0mfloat64\u001b[0m\u001b[0;34m)\u001b[0m\u001b[0;34m\u001b[0m\u001b[0;34m\u001b[0m\u001b[0m\n\u001b[0;32m--> 270\u001b[0;31m     xopt, info = cobyla.minimize(calcfc, m=m, x=np.copy(x0), rhobeg=rhobeg,\n\u001b[0m\u001b[1;32m    271\u001b[0m                                   \u001b[0mrhoend\u001b[0m\u001b[0;34m=\u001b[0m\u001b[0mrhoend\u001b[0m\u001b[0;34m,\u001b[0m \u001b[0miprint\u001b[0m\u001b[0;34m=\u001b[0m\u001b[0miprint\u001b[0m\u001b[0;34m,\u001b[0m \u001b[0mmaxfun\u001b[0m\u001b[0;34m=\u001b[0m\u001b[0mmaxfun\u001b[0m\u001b[0;34m,\u001b[0m\u001b[0;34m\u001b[0m\u001b[0;34m\u001b[0m\u001b[0m\n\u001b[1;32m    272\u001b[0m                                   dinfo=info, callback=wrapped_callback)\n",
      "\u001b[0;32m~/opt/anaconda3/envs/terra-dev/lib/python3.8/site-packages/scipy/optimize/_cobyla_py.py\u001b[0m in \u001b[0;36mcalcfc\u001b[0;34m(x, con)\u001b[0m\n\u001b[1;32m    256\u001b[0m \u001b[0;34m\u001b[0m\u001b[0m\n\u001b[1;32m    257\u001b[0m     \u001b[0;32mdef\u001b[0m \u001b[0mcalcfc\u001b[0m\u001b[0;34m(\u001b[0m\u001b[0mx\u001b[0m\u001b[0;34m,\u001b[0m \u001b[0mcon\u001b[0m\u001b[0;34m)\u001b[0m\u001b[0;34m:\u001b[0m\u001b[0;34m\u001b[0m\u001b[0;34m\u001b[0m\u001b[0m\n\u001b[0;32m--> 258\u001b[0;31m         \u001b[0mf\u001b[0m \u001b[0;34m=\u001b[0m \u001b[0mfun\u001b[0m\u001b[0;34m(\u001b[0m\u001b[0mnp\u001b[0m\u001b[0;34m.\u001b[0m\u001b[0mcopy\u001b[0m\u001b[0;34m(\u001b[0m\u001b[0mx\u001b[0m\u001b[0;34m)\u001b[0m\u001b[0;34m,\u001b[0m \u001b[0;34m*\u001b[0m\u001b[0margs\u001b[0m\u001b[0;34m)\u001b[0m\u001b[0;34m\u001b[0m\u001b[0;34m\u001b[0m\u001b[0m\n\u001b[0m\u001b[1;32m    259\u001b[0m         \u001b[0mi\u001b[0m \u001b[0;34m=\u001b[0m \u001b[0;36m0\u001b[0m\u001b[0;34m\u001b[0m\u001b[0;34m\u001b[0m\u001b[0m\n\u001b[1;32m    260\u001b[0m         \u001b[0;32mfor\u001b[0m \u001b[0msize\u001b[0m\u001b[0;34m,\u001b[0m \u001b[0mc\u001b[0m \u001b[0;32min\u001b[0m \u001b[0mizip\u001b[0m\u001b[0;34m(\u001b[0m\u001b[0mcons_lengths\u001b[0m\u001b[0;34m,\u001b[0m \u001b[0mconstraints\u001b[0m\u001b[0;34m)\u001b[0m\u001b[0;34m:\u001b[0m\u001b[0;34m\u001b[0m\u001b[0;34m\u001b[0m\u001b[0m\n",
      "\u001b[0;32m~/opt/anaconda3/envs/terra-dev/lib/python3.8/site-packages/qiskit/algorithms/minimum_eigensolvers/vqe.py\u001b[0m in \u001b[0;36mevaluate_energy\u001b[0;34m(parameters)\u001b[0m\n\u001b[1;32m    254\u001b[0m                 \u001b[0mestimator_result\u001b[0m \u001b[0;34m=\u001b[0m \u001b[0mjob\u001b[0m\u001b[0;34m.\u001b[0m\u001b[0mresult\u001b[0m\u001b[0;34m(\u001b[0m\u001b[0;34m)\u001b[0m\u001b[0;34m\u001b[0m\u001b[0;34m\u001b[0m\u001b[0m\n\u001b[1;32m    255\u001b[0m             \u001b[0;32mexcept\u001b[0m \u001b[0mException\u001b[0m \u001b[0;32mas\u001b[0m \u001b[0mexc\u001b[0m\u001b[0;34m:\u001b[0m\u001b[0;34m\u001b[0m\u001b[0;34m\u001b[0m\u001b[0m\n\u001b[0;32m--> 256\u001b[0;31m                 \u001b[0;32mraise\u001b[0m \u001b[0mAlgorithmError\u001b[0m\u001b[0;34m(\u001b[0m\u001b[0;34m\"The primitive job to evaluate the energy failed!\"\u001b[0m\u001b[0;34m)\u001b[0m \u001b[0;32mfrom\u001b[0m \u001b[0mexc\u001b[0m\u001b[0;34m\u001b[0m\u001b[0;34m\u001b[0m\u001b[0m\n\u001b[0m\u001b[1;32m    257\u001b[0m \u001b[0;34m\u001b[0m\u001b[0m\n\u001b[1;32m    258\u001b[0m             \u001b[0mvalues\u001b[0m \u001b[0;34m=\u001b[0m \u001b[0mestimator_result\u001b[0m\u001b[0;34m.\u001b[0m\u001b[0mvalues\u001b[0m\u001b[0;34m\u001b[0m\u001b[0;34m\u001b[0m\u001b[0m\n",
      "\u001b[0;31mAlgorithmError\u001b[0m: 'The primitive job to evaluate the energy failed!'"
     ]
    }
   ],
   "source": [
    "# this part is exactly the same again\n",
    "\n",
    "with Session(service=service, backend=backend) as session:\n",
    "    estimator = RuntimeEstimator(session=session, options=options)\n",
    "    vqe = VQE(estimator, ansatz, optimizer, initial_point=np.ones(8))\n",
    "    result=vqe.compute_minimum_eigenvalue(observable_1)\n",
    "    session.close()\n",
    "\n",
    "print(result)"
   ]
  },
  {
   "cell_type": "code",
   "execution_count": null,
   "metadata": {},
   "outputs": [],
   "source": [
    "opt_qc = result.optimal_circuit.bind_parameters(result.optimal_parameters)\n",
    "\n",
    "opt_vector = Statevector.from_instruction(opt_qc)\n",
    "\n",
    "print(f\"The lowest eigenvalue obtained with the noisy backend is {result.eigenvalue} and its statevector is {opt_vector}.\\n The ideal eigenvalue is {-6} and its eigenvector is {[1,0,0,1]/np.sqrt(2)}\")"
   ]
  },
  {
   "cell_type": "code",
   "execution_count": 77,
   "metadata": {},
   "outputs": [],
   "source": [
    "# increase shots\n",
    "\n",
    "options.execution.shots = 15000"
   ]
  },
  {
   "cell_type": "code",
   "execution_count": 78,
   "metadata": {},
   "outputs": [
    {
     "name": "stdout",
     "output_type": "stream",
     "text": [
      "{   'aux_operators_evaluated': None,\n",
      "    'cost_function_evals': 79,\n",
      "    'eigenvalue': -3.530455555555557,\n",
      "    'optimal_circuit': <qiskit.circuit.library.n_local.two_local.TwoLocal object at 0x7f8d58b00730>,\n",
      "    'optimal_parameters': {   ParameterVectorElement(θ[4]): -0.5941830387015075,\n",
      "                              ParameterVectorElement(θ[1]): 0.9634591328382499,\n",
      "                              ParameterVectorElement(θ[2]): 0.7201775480366278,\n",
      "                              ParameterVectorElement(θ[0]): 0.9387253145386416,\n",
      "                              ParameterVectorElement(θ[7]): 0.44426499576891076,\n",
      "                              ParameterVectorElement(θ[6]): 0.7271142882897971,\n",
      "                              ParameterVectorElement(θ[5]): 0.3802244819746072,\n",
      "                              ParameterVectorElement(θ[3]): 0.2433473016404783},\n",
      "    'optimal_point': array([ 0.93872531,  0.96345913,  0.72017755,  0.2433473 , -0.59418304,\n",
      "        0.38022448,  0.72711429,  0.444265  ]),\n",
      "    'optimal_value': -3.530455555555557,\n",
      "    'optimizer_evals': None,\n",
      "    'optimizer_result': <qiskit.algorithms.optimizers.optimizer.OptimizerResult object at 0x7f8d58b00670>,\n",
      "    'optimizer_time': 768.8613131046295}\n"
     ]
    }
   ],
   "source": [
    "with Session(service=service, backend=backend) as session:\n",
    "    estimator = RuntimeEstimator(session=session, options=options)\n",
    "    vqe = VQE(estimator, ansatz, optimizer, initial_point=np.ones(8))\n",
    "    result=vqe.compute_minimum_eigenvalue(observable_1)\n",
    "    session.close()\n",
    "\n",
    "\n",
    "# result even worse\n",
    "print(result)"
   ]
  },
  {
   "cell_type": "code",
   "execution_count": null,
   "metadata": {},
   "outputs": [],
   "source": [
    "opt_qc = result.optimal_circuit.bind_parameters(result.optimal_parameters)\n",
    "\n",
    "opt_vector = Statevector.from_instruction(opt_qc)\n",
    "\n",
    "print(f\"The lowest eigenvalue obtained with the noisy backend is {result.eigenvalue} and its statevector is {opt_vector}.\\n The ideal eigenvalue is {-6} and its eigenvector is {[1,0,0,1]/np.sqrt(2)}\")"
   ]
  },
  {
   "cell_type": "code",
   "execution_count": 79,
   "metadata": {},
   "outputs": [],
   "source": [
    "# lower optimization level to 0\n",
    "\n",
    "options.optimization_level=0"
   ]
  },
  {
   "cell_type": "code",
   "execution_count": 80,
   "metadata": {},
   "outputs": [
    {
     "name": "stdout",
     "output_type": "stream",
     "text": [
      "{   'aux_operators_evaluated': None,\n",
      "    'cost_function_evals': 107,\n",
      "    'eigenvalue': -3.31958888888889,\n",
      "    'optimal_circuit': <qiskit.circuit.library.n_local.two_local.TwoLocal object at 0x7f8d4a815ee0>,\n",
      "    'optimal_parameters': {   ParameterVectorElement(θ[4]): -0.465030350306802,\n",
      "                              ParameterVectorElement(θ[1]): 0.6606167234714537,\n",
      "                              ParameterVectorElement(θ[2]): 1.2267561184038476,\n",
      "                              ParameterVectorElement(θ[0]): -0.13408626544127303,\n",
      "                              ParameterVectorElement(θ[7]): 0.5014534441699836,\n",
      "                              ParameterVectorElement(θ[6]): 0.4658237392007962,\n",
      "                              ParameterVectorElement(θ[5]): 0.42244167392445314,\n",
      "                              ParameterVectorElement(θ[3]): -0.07623532071876048},\n",
      "    'optimal_point': array([-0.13408627,  0.66061672,  1.22675612, -0.07623532, -0.46503035,\n",
      "        0.42244167,  0.46582374,  0.50145344]),\n",
      "    'optimal_value': -3.31958888888889,\n",
      "    'optimizer_evals': None,\n",
      "    'optimizer_result': <qiskit.algorithms.optimizers.optimizer.OptimizerResult object at 0x7f8d79547dc0>,\n",
      "    'optimizer_time': 943.0433351993561}\n"
     ]
    }
   ],
   "source": [
    "with Session(service=service, backend=backend) as session:\n",
    "    estimator = RuntimeEstimator(session=session, options=options)\n",
    "    vqe = VQE(estimator, ansatz, optimizer, initial_point=np.ones(8))\n",
    "    result=vqe.compute_minimum_eigenvalue(observable_1)\n",
    "    session.close()\n",
    "\n",
    "# not a big difference. A bit worse\n",
    "print(result)"
   ]
  },
  {
   "cell_type": "code",
   "execution_count": 81,
   "metadata": {},
   "outputs": [],
   "source": [
    "# lower resilience from 2 to 1\n",
    "\n",
    "options.resilience_level=1"
   ]
  },
  {
   "cell_type": "code",
   "execution_count": 82,
   "metadata": {},
   "outputs": [
    {
     "name": "stdout",
     "output_type": "stream",
     "text": [
      "{   'aux_operators_evaluated': None,\n",
      "    'cost_function_evals': 86,\n",
      "    'eigenvalue': -4.968478947596811,\n",
      "    'optimal_circuit': <qiskit.circuit.library.n_local.two_local.TwoLocal object at 0x7f8d58a99f70>,\n",
      "    'optimal_parameters': {   ParameterVectorElement(θ[4]): 0.64756080818463,\n",
      "                              ParameterVectorElement(θ[1]): 0.38397649630622405,\n",
      "                              ParameterVectorElement(θ[2]): 1.3412562384743458,\n",
      "                              ParameterVectorElement(θ[0]): 2.5734495593907707,\n",
      "                              ParameterVectorElement(θ[7]): 0.3775292356101593,\n",
      "                              ParameterVectorElement(θ[6]): 0.3236246685817745,\n",
      "                              ParameterVectorElement(θ[5]): -0.6115356255109299,\n",
      "                              ParameterVectorElement(θ[3]): -0.13823400381242829},\n",
      "    'optimal_point': array([ 2.57344956,  0.3839765 ,  1.34125624, -0.138234  ,  0.64756081,\n",
      "       -0.61153563,  0.32362467,  0.37752924]),\n",
      "    'optimal_value': -4.968478947596811,\n",
      "    'optimizer_evals': None,\n",
      "    'optimizer_result': <qiskit.algorithms.optimizers.optimizer.OptimizerResult object at 0x7f8d58d2ebe0>,\n",
      "    'optimizer_time': 867.2955057621002}\n"
     ]
    }
   ],
   "source": [
    "with Session(service=service, backend=backend) as session:\n",
    "    estimator = RuntimeEstimator(session=session, options=options)\n",
    "    vqe = VQE(estimator, ansatz, optimizer, initial_point=np.ones(8))\n",
    "    result=vqe.compute_minimum_eigenvalue(observable_1)\n",
    "    session.close()\n",
    "\n",
    "# why is it better now?\n",
    "print(result)"
   ]
  },
  {
   "cell_type": "markdown",
   "metadata": {},
   "source": [
    "----------------------"
   ]
  },
  {
   "cell_type": "markdown",
   "metadata": {},
   "source": [
    "-----------------"
   ]
  },
  {
   "cell_type": "code",
   "execution_count": null,
   "metadata": {},
   "outputs": [
    {
     "name": "stdout",
     "output_type": "stream",
     "text": [
      "{   'aux_operators_evaluated': None,\n",
      "    'cost_function_evals': array([ 89, 106, 110,  96]),\n",
      "    'eigenvalues': array([-6.9715+0.j,  3.0375+0.j,  7.0155+0.j, 16.8305+0.j]),\n",
      "    'optimal_circuits': [   <qiskit.circuit.library.n_local.two_local.TwoLocal object at 0x7f9b52f3dca0>,\n",
      "                            <qiskit.circuit.library.n_local.two_local.TwoLocal object at 0x7f9b52f6ef10>,\n",
      "                            <qiskit.circuit.library.n_local.two_local.TwoLocal object at 0x7f9b710d5700>,\n",
      "                            <qiskit.circuit.library.n_local.two_local.TwoLocal object at 0x7f9b525fc280>],\n",
      "    'optimal_parameters': [   {   ParameterVectorElement(θ[7]): -6.258393199511491,\n",
      "                                  ParameterVectorElement(θ[3]): -3.1747207110168403,\n",
      "                                  ParameterVectorElement(θ[2]): 1.606302781520952,\n",
      "                                  ParameterVectorElement(θ[6]): -3.158999706087004,\n",
      "                                  ParameterVectorElement(θ[5]): 5.123093414274128,\n",
      "                                  ParameterVectorElement(θ[1]): -0.5805412927591446,\n",
      "                                  ParameterVectorElement(θ[0]): -4.106291493790551,\n",
      "                                  ParameterVectorElement(θ[4]): 2.0194991566981884},\n",
      "                              {   ParameterVectorElement(θ[7]): -5.062272795214938,\n",
      "                                  ParameterVectorElement(θ[3]): -3.109314889186053,\n",
      "                                  ParameterVectorElement(θ[2]): 1.6662592179949822,\n",
      "                                  ParameterVectorElement(θ[6]): -4.451372713295389,\n",
      "                                  ParameterVectorElement(θ[5]): 3.4961434911126723,\n",
      "                                  ParameterVectorElement(θ[1]): 0.04759777661000841,\n",
      "                                  ParameterVectorElement(θ[0]): -3.446123219766639,\n",
      "                                  ParameterVectorElement(θ[4]): 3.4828032709590278},\n",
      "                              {   ParameterVectorElement(θ[7]): -4.851676799051136,\n",
      "                                  ParameterVectorElement(θ[3]): -3.169182576609309,\n",
      "                                  ParameterVectorElement(θ[2]): 1.4888047627240746,\n",
      "                                  ParameterVectorElement(θ[6]): -4.901656875040412,\n",
      "                                  ParameterVectorElement(θ[5]): 3.3536794174527897,\n",
      "                                  ParameterVectorElement(θ[1]): -1.712972218219471,\n",
      "                                  ParameterVectorElement(θ[0]): -5.9311293286833555,\n",
      "                                  ParameterVectorElement(θ[4]): 0.20276452394223987},\n",
      "                              {   ParameterVectorElement(θ[7]): -6.8520991125904605,\n",
      "                                  ParameterVectorElement(θ[3]): -4.363172327460978,\n",
      "                                  ParameterVectorElement(θ[2]): 3.5813376011732223,\n",
      "                                  ParameterVectorElement(θ[6]): -4.9737091957874595,\n",
      "                                  ParameterVectorElement(θ[5]): 3.075450423844769,\n",
      "                                  ParameterVectorElement(θ[1]): -1.089973819488614,\n",
      "                                  ParameterVectorElement(θ[0]): -4.728893810461712,\n",
      "                                  ParameterVectorElement(θ[4]): -0.279198995919287}],\n",
      "    'optimal_points': array([[-4.10629149, -0.58054129,  1.60630278, -3.17472071,  2.01949916,\n",
      "         5.12309341, -3.15899971, -6.2583932 ],\n",
      "       [-3.44612322,  0.04759778,  1.66625922, -3.10931489,  3.48280327,\n",
      "         3.49614349, -4.45137271, -5.0622728 ],\n",
      "       [-5.93112933, -1.71297222,  1.48880476, -3.16918258,  0.20276452,\n",
      "         3.35367942, -4.90165688, -4.8516768 ],\n",
      "       [-4.72889381, -1.08997382,  3.5813376 , -4.36317233, -0.279199  ,\n",
      "         3.07545042, -4.9737092 , -6.85209911]]),\n",
      "    'optimal_values': array([-6.9715,  3.0375,  7.0155, 16.8305]),\n",
      "    'optimizer_results': [   <qiskit.algorithms.optimizers.optimizer.OptimizerResult object at 0x7f9b90f529a0>,\n",
      "                             <qiskit.algorithms.optimizers.optimizer.OptimizerResult object at 0x7f9b710418e0>,\n",
      "                             <qiskit.algorithms.optimizers.optimizer.OptimizerResult object at 0x7f9b70d7cb50>,\n",
      "                             <qiskit.algorithms.optimizers.optimizer.OptimizerResult object at 0x7f9b815cd3d0>],\n",
      "    'optimizer_times': array([ 434.385741  ,  834.94197083, 1416.43692923,  993.23212314])}\n"
     ]
    }
   ],
   "source": [
    "from qiskit_ibm_runtime import Sampler as RuntimeSampler\n",
    "\n",
    "with Session(service=service, backend=backend) as session:\n",
    "    estimator = RuntimeEstimator(session=session)\n",
    "    \n",
    "    sampler = RuntimeSampler(session=session)\n",
    "    fidelity = ComputeUncompute(sampler)\n",
    "\n",
    "\n",
    "    vqd = VQD(estimator, fidelity, ansatz, optimizer, k=k, betas=betas)\n",
    "    result=vqd.compute_eigenvalues(observable_2)\n",
    "\n",
    "# An eigenvalue of 16??? The highest eigenvalue for that observable was 7. It should be completely impossible to get 16\n",
    "\n",
    "print(result)"
   ]
  },
  {
   "cell_type": "code",
   "execution_count": null,
   "metadata": {},
   "outputs": [
    {
     "data": {
      "text/plain": [
       "Options(optimization_level=3, resilience_level=1, max_execution_time=None, transpilation={'skip_transpilation': False, 'initial_layout': None, 'layout_method': None, 'routing_method': None, 'approximation_degree': None}, resilience={'noise_amplifier': 'TwoQubitAmplifier', 'noise_factors': (1, 3, 5), 'extrapolator': 'LinearExtrapolator'}, execution={'shots': 4000, 'init_qubits': True}, environment={'log_level': 'WARNING', 'callback': None, 'job_tags': []}, simulator={'noise_model': None, 'seed_simulator': None, 'coupling_map': None, 'basis_gates': None})"
      ]
     },
     "execution_count": 92,
     "metadata": {},
     "output_type": "execute_result"
    }
   ],
   "source": [
    "estimator.options"
   ]
  },
  {
   "cell_type": "code",
   "execution_count": null,
   "metadata": {},
   "outputs": [
    {
     "data": {
      "text/plain": [
       "4000"
      ]
     },
     "execution_count": 86,
     "metadata": {},
     "output_type": "execute_result"
    }
   ],
   "source": [
    "estimator.options.execution[\"shots\"]"
   ]
  },
  {
   "cell_type": "code",
   "execution_count": null,
   "metadata": {},
   "outputs": [],
   "source": []
  }
 ],
 "metadata": {
  "kernelspec": {
   "display_name": "Python 3",
   "language": "python",
   "name": "python3"
  },
  "language_info": {
   "codemirror_mode": {
    "name": "ipython",
    "version": 3
   },
   "file_extension": ".py",
   "mimetype": "text/x-python",
   "name": "python",
   "nbconvert_exporter": "python",
   "pygments_lexer": "ipython3",
   "version": "3.9"
  }
 },
 "nbformat": 4,
 "nbformat_minor": 2
}
