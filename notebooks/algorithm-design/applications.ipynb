{
 "cells": [
  {
   "attachments": {},
   "cell_type": "markdown",
   "metadata": {},
   "source": [
    "## Examples and applications\n",
    "\n",
    "During this lesson, we'll learn how to apply a variational algorithm to find minimum eigenvalues and eigenstate. We'll also include elements from the previous sections."
   ]
  },
  {
   "attachments": {},
   "cell_type": "markdown",
   "metadata": {},
   "source": [
    "### Problem definitions\n",
    "\n",
    "Imagine that we want to use a variational algorithm to find the eigenvalues and eigenstates of the following observables:\n",
    "\n",
    "$$\n",
    "\\hat{O}_1 = 2 II - 2 XX + 3 YY - 3 ZZ,\n",
    "$$\n",
    "\n",
    "The solution eigenvalues:\n",
    "\n",
    "$$\n",
    "\\left\\{\n",
    "\\begin{array}{c}\n",
    "\\lambda_0 = -6 \\\\\n",
    "\\lambda_1 = 4 \\\\\n",
    "\\lambda_2 = 4 \\\\\n",
    "\\lambda_3 = 6\n",
    "\\end{array}\n",
    "\\right\\},\n",
    "$$\n",
    "\n",
    "The solution eigenstates:\n",
    "\n",
    "$$\n",
    "\\left\\{\n",
    "\\begin{array}{c}\n",
    "|\\phi_0\\rangle = \\frac{1}{\\sqrt{2}}(|00\\rangle + |11\\rangle)\\\\\n",
    "|\\phi_1\\rangle = \\frac{1}{\\sqrt{2}}(|00\\rangle - |11\\rangle)\\\\\n",
    "|\\phi_2\\rangle = \\frac{1}{\\sqrt{2}}(|01\\rangle - |10\\rangle)\\\\\n",
    "|\\phi_3\\rangle = \\frac{1}{\\sqrt{2}}(|01\\rangle + |10\\rangle)\n",
    "\\end{array}\n",
    "\\right\\}\n",
    "$$"
   ]
  },
  {
   "cell_type": "code",
   "execution_count": null,
   "metadata": {},
   "outputs": [],
   "source": [
    "from qiskit.quantum_info import SparsePauliOp\n",
    "\n",
    "observable_1 = SparsePauliOp.from_list([\n",
    "    (\"II\", 2),\n",
    "    (\"XX\", -2),\n",
    "    (\"YY\", 3),\n",
    "    (\"ZZ\", -3)\n",
    "])"
   ]
  },
  {
   "cell_type": "markdown",
   "metadata": {},
   "source": [
    "For these examples we will use the following ansatz:"
   ]
  },
  {
   "cell_type": "code",
   "execution_count": null,
   "metadata": {},
   "outputs": [],
   "source": [
    "from qiskit.circuit.library import TwoLocal\n",
    "\n",
    "ansatz = TwoLocal(2, rotation_blocks=['rz', 'ry'], entanglement_blocks='cx', entanglement='linear', reps=1)\n",
    "\n",
    "ansatz.decompose().draw(\"mpl\")"
   ]
  },
  {
   "attachments": {},
   "cell_type": "markdown",
   "metadata": {},
   "source": [
    "Notice that the reference state $|\\rho\\rangle = |0\\rangle$, which means that $U_R = I$, and $U_A(\\vec\\theta) = U_V(\\vec\\theta)$. In other words, this ansatz is only made with a variational form."
   ]
  },
  {
   "cell_type": "markdown",
   "metadata": {},
   "source": [
    "## VQE"
   ]
  },
  {
   "attachments": {},
   "cell_type": "markdown",
   "metadata": {},
   "source": [
    "In this first example, you will run VQE to find the lowest eigenvalue of the first observable $\\hat{O}_1$ and look at all the output results. In order to initialize a Qiskit [VQE](https://qiskit.org/documentation/stubs/qiskit.algorithms.minimum_eigensolvers.VQE.html) object, you need to provide an `Estimator` instance, be it Terra's, Runtime's or any other implementation. It is also necessary to include the ansatz circuit and a classical optimizer.\n",
    "\n",
    "In this case we will use, Terra's [`Estimator`](https://qiskit.org/documentation/stubs/qiskit.primitives.Estimator.html#qiskit.primitives.Estimator) and the optimizer will be [`SLSQP`](https://qiskit.org/documentation/stubs/qiskit.algorithms.optimizers.SLSQP.html) (i.e. Sequential Least SQuares Programming). Additionally, we will set the initial point for the `SLSQP` optimizer to $\\vec\\theta_0 = (1, \\cdots, 1)$."
   ]
  },
  {
   "cell_type": "code",
   "execution_count": null,
   "metadata": {},
   "outputs": [],
   "source": [
    "from qiskit.primitives import Estimator\n",
    "from qiskit.algorithms.optimizers import SLSQP\n",
    "from qiskit.algorithms.minimum_eigensolvers import VQE\n",
    "import numpy as np\n",
    "\n",
    "estimator = Estimator()\n",
    "optimizer = SLSQP()\n",
    "vqe = VQE(estimator, ansatz, optimizer, initial_point=np.ones(8))"
   ]
  },
  {
   "attachments": {},
   "cell_type": "markdown",
   "metadata": {},
   "source": [
    "Now that we have initialized the `VQE` instance, we can get the results with the [`VQE.compute_minimum_eigenvalue`](https://qiskit.org/documentation/stubs/qiskit.algorithms.minimum_eigensolvers.VQE.compute_minimum_eigenvalue.html#qiskit.algorithms.minimum_eigensolvers.VQE.compute_minimum_eigenvalue) method. Let us look at the results."
   ]
  },
  {
   "cell_type": "code",
   "execution_count": null,
   "metadata": {},
   "outputs": [],
   "source": [
    "result = vqe.compute_minimum_eigenvalue(observable_1)\n",
    "print(result)"
   ]
  },
  {
   "cell_type": "markdown",
   "metadata": {},
   "source": [
    "Let us look at the `optimizer_result`:"
   ]
  },
  {
   "cell_type": "code",
   "execution_count": null,
   "metadata": {},
   "outputs": [],
   "source": [
    "print(result.optimizer_result)"
   ]
  },
  {
   "cell_type": "markdown",
   "metadata": {},
   "source": [
    "Of all this information, however, the most important part is the eigenvalue. Let us compare it with the theoretical value:"
   ]
  },
  {
   "cell_type": "code",
   "execution_count": null,
   "metadata": {},
   "outputs": [],
   "source": [
    "from numpy.linalg import eigvalsh\n",
    "\n",
    "eigenvalues = eigvalsh(observable_1.to_matrix())\n",
    "min_eigenvalue = eigenvalues[0]\n",
    "\n",
    "print(\"EIGENVALUES:\")\n",
    "print(f\"  - Theoretical: {min_eigenvalue}.\")\n",
    "print(f\"  - VQE: {result.eigenvalue}\")\n",
    "print(f\"Percent error >> {abs((result.eigenvalue - min_eigenvalue)/min_eigenvalue):.2e}\")"
   ]
  },
  {
   "attachments": {},
   "cell_type": "markdown",
   "metadata": {},
   "source": [
    "As you can see, the result is extremely close to the ideal.\n",
    "\n",
    "However, we still haven't looked at the eigenstates, since they were not part of `results`. For this purpose, let us bind the optimal parameter values `result.optimal_parameters` to `results.optimal_circuit` and define a [Statevector](https://qiskit.org/documentation/stubs/qiskit.quantum_info.Statevector.html) from that bound (i.e. non-parametrized) circuit."
   ]
  },
  {
   "cell_type": "code",
   "execution_count": null,
   "metadata": {},
   "outputs": [],
   "source": [
    "from qiskit.quantum_info import Statevector\n",
    "\n",
    "optimal_circuit = result.optimal_circuit.bind_parameters(result.optimal_parameters)\n",
    "optimal_vector = Statevector.from_instruction(optimal_circuit)\n",
    "\n",
    "rounded_optimal_vector = np.round(optimal_vector.data, 3)\n",
    "print(f\"EIGENSTATE: {rounded_optimal_vector}\")"
   ]
  },
  {
   "attachments": {},
   "cell_type": "markdown",
   "metadata": {},
   "source": [
    "This result does not seem too close to the theoretical one of $\\frac{1}{\\sqrt{2}}(|00\\rangle + |11\\rangle) \\equiv [\\frac{1}{\\sqrt{2}},0,0,\\frac{1}{\\sqrt{2}}]$. However, notice that eigenvectors are defined up to a constant factor. Furthermore, quantum states are always normalized and equivalent up to a global phase, so we can easily verify that these two statevectors are equivalent."
   ]
  },
  {
   "cell_type": "code",
   "execution_count": null,
   "metadata": {},
   "outputs": [],
   "source": [
    "from numpy.linalg import eigh\n",
    "\n",
    "_, eigenvectors = eigh(observable_1.to_matrix())\n",
    "min_eigenvector = eigenvectors.T[0]  # Note: transpose to extract by index\n",
    "\n",
    "optimal_vector.equiv(min_eigenvector, atol=1e-4)"
   ]
  },
  {
   "cell_type": "markdown",
   "metadata": {},
   "source": [
    "We can conclude that the state we obtained is equivalent to the ideal one up to $10^{-4}$."
   ]
  },
  {
   "cell_type": "markdown",
   "metadata": {},
   "source": [
    "### Add reference state\n",
    "\n",
    "In the previous example we have not used any reference operator $U_R$. Now let us think about how the ideal eigenstate $\\frac{1}{\\sqrt{2}}(|00\\rangle + |11\\rangle)$ can be obtained. Consider the following circuit."
   ]
  },
  {
   "cell_type": "code",
   "execution_count": null,
   "metadata": {},
   "outputs": [],
   "source": [
    "from qiskit import QuantumCircuit\n",
    "\n",
    "ideal_qc = QuantumCircuit(2)\n",
    "ideal_qc.h(0)\n",
    "ideal_qc.cx(0,1)\n",
    "\n",
    "ideal_qc.draw(\"mpl\")"
   ]
  },
  {
   "cell_type": "markdown",
   "metadata": {},
   "source": [
    "We can quickly check that this circuit gives us the desired state."
   ]
  },
  {
   "cell_type": "code",
   "execution_count": null,
   "metadata": {},
   "outputs": [],
   "source": [
    "Statevector.from_instruction(ideal_qc)"
   ]
  },
  {
   "attachments": {},
   "cell_type": "markdown",
   "metadata": {},
   "source": [
    "Now that we have seen how a circuit preparing the solution state looks like, it seems reasonable to use a Hadamard gate as a reference circuit, so that the full ansatz becomes:"
   ]
  },
  {
   "cell_type": "code",
   "execution_count": null,
   "metadata": {},
   "outputs": [],
   "source": [
    "reference = QuantumCircuit(2)\n",
    "reference.h(0)\n",
    "# Include barrier to separate reference from variational form\n",
    "reference.barrier()\n",
    "\n",
    "ref_ansatz = ansatz.decompose().compose(reference, front=True)\n",
    "\n",
    "ref_ansatz.draw(\"mpl\")"
   ]
  },
  {
   "cell_type": "markdown",
   "metadata": {},
   "source": [
    "For this new circuit, the ideal solution could be reached with all the parameters set to $0$, so this confirms that the choice of reference circuit is reasonable.\n",
    "\n",
    "Now let us compare the number of cost function evaluations, optimizer iterations and time taken with those of the previous attempt."
   ]
  },
  {
   "cell_type": "code",
   "execution_count": null,
   "metadata": {},
   "outputs": [],
   "source": [
    "num_evaluations = result.cost_function_evals\n",
    "num_iterations = result.optimizer_result.nit\n",
    "time = result.optimizer_time\n",
    "\n",
    "print(\"NO REFERENCE STATE:\")\n",
    "print(f\"  - Number of evaluations: {num_evaluations}\")\n",
    "print(f\"  - Number of iterations: {num_iterations}\")\n",
    "print(f\"  - Time: {time:.5f} seconds\")"
   ]
  },
  {
   "cell_type": "code",
   "execution_count": null,
   "metadata": {},
   "outputs": [],
   "source": [
    "# You can change the ansatz of the already defined vqe object instead of creating a new one\n",
    "vqe.ansatz = ref_ansatz\n",
    "\n",
    "ref_result = vqe.compute_minimum_eigenvalue(observable_1)"
   ]
  },
  {
   "cell_type": "code",
   "execution_count": null,
   "metadata": {},
   "outputs": [],
   "source": [
    "num_evaluations_ref = ref_result.cost_function_evals\n",
    "num_iterations_ref = ref_result.optimizer_result.nit\n",
    "time_ref = ref_result.optimizer_time\n",
    "\n",
    "print(\"ADDED REFERENCE STATE:\")\n",
    "print(f\"  - Number of evaluations: {num_evaluations_ref}\")\n",
    "print(f\"  - Number of iterations: {num_iterations_ref}\")\n",
    "print(f\"  - Time: {time_ref:.5f} seconds\")\n",
    "print()\n",
    "\n",
    "if num_evaluations_ref < num_evaluations:\n",
    "    print(\">> Number of cost function evaluations improved\")\n",
    "elif num_evaluations_ref > num_evaluations:\n",
    "    print(\">> Number of cost function evaluations worsened\")\n",
    "if num_iterations_ref < num_iterations:\n",
    "    print(\">> Number of iterations improved\")\n",
    "elif num_iterations_ref > num_iterations:\n",
    "    print(\">> Number of iterations worsened\")\n",
    "if time_ref < time:\n",
    "    print(\">> Time improved\")\n",
    "elif time_ref > time:\n",
    "    print(\">> Time worsened\")\n"
   ]
  },
  {
   "cell_type": "markdown",
   "metadata": {},
   "source": [
    "### Change initial point"
   ]
  },
  {
   "cell_type": "markdown",
   "metadata": {},
   "source": [
    "Now that we have seen the effect of adding the reference state, we will go into what happens when we choose different initial points $\\vec{\\theta_0}$. In particular we will use $\\vec{\\theta_0}=(0,0,0,0,6,0,0,0)$ and $\\vec{\\theta_0}=(6,6,6,6,6,6,6,6,6)$. Remember that, as discussed when the reference state was introduced, the ideal solution would be found when all the parameters are $0$, so the first initial point should give fewer evaluations, iterations and time."
   ]
  },
  {
   "cell_type": "code",
   "execution_count": null,
   "metadata": {},
   "outputs": [],
   "source": [
    "vqe.initial_point = [0,0,0,0,6,0,0,0]\n",
    "\n",
    "result = vqe.compute_minimum_eigenvalue(observable_1)\n",
    "\n",
    "num_evaluations = result.cost_function_evals\n",
    "num_iterations = result.optimizer_result.nit\n",
    "time = result.optimizer_time\n",
    "\n",
    "print(f\"INITIAL POINT: {vqe.initial_point}\")\n",
    "print(f\"  - Number of evaluations: {num_evaluations}\")\n",
    "print(f\"  - Number of iterations: {num_iterations}\")\n",
    "print(f\"  - Time: {time:.5f} seconds\")"
   ]
  },
  {
   "cell_type": "code",
   "execution_count": null,
   "metadata": {},
   "outputs": [],
   "source": [
    "vqe.initial_point = 6*np.ones(8)\n",
    "\n",
    "result = vqe.compute_minimum_eigenvalue(observable_1)\n",
    "\n",
    "num_evaluations = result.cost_function_evals\n",
    "num_iterations = result.optimizer_result.nit\n",
    "time = result.optimizer_time\n",
    "\n",
    "print(f\"INITIAL POINT: {vqe.initial_point}\")\n",
    "print(f\"  - Number of evaluations: {num_evaluations}\")\n",
    "print(f\"  - Number of iterations: {num_iterations}\")\n",
    "print(f\"  - Time: {time:.5f} seconds\")"
   ]
  },
  {
   "cell_type": "markdown",
   "metadata": {},
   "source": [
    "## VQD example"
   ]
  },
  {
   "attachments": {},
   "cell_type": "markdown",
   "metadata": {},
   "source": [
    "Now instead of looking for only the lowest eigenvalue of our observables, we will look for all $4$. Following the notation from the previous chapter (as well as that from Qiskit's [VQD](https://qiskit.org/documentation/stubs/qiskit.algorithms.eigensolvers.VQD.html) class), that means $k=4$.\n",
    "\n",
    "Remember that the cost functions of VQD are:\n",
    "\n",
    "$$\n",
    "C_{l}(\\vec{\\theta}) := \n",
    "\\langle \\psi(\\vec{\\theta}) | \\hat{H} | \\psi(\\vec{\\theta})\\rangle + \n",
    "\\sum_{j=0}^{l-1}\\beta_j |\\langle \\psi(\\vec{\\theta})| \\psi(\\vec{\\theta^j})\\rangle  |^2 \n",
    "\\quad \\forall l\\in\\{1,\\cdots,k\\}=\\{1,\\cdots,4\\}\n",
    "$$\n",
    "\n",
    "This is particularly important because a vector $\\vec{\\beta}=(\\beta_0,\\cdots,\\beta_{k-1})$ (in this case $(\\beta_0, \\beta_1, \\beta_2, \\beta_3)$) must be passed as an argument when we define the `VQD` object.\n",
    "\n",
    "Also, in Qiskit's implementation of VQD, instead of considering the effective observables described in the previous notebook, the fidelities $|\\langle \\psi(\\vec{\\theta})| \\psi(\\vec{\\theta^j})\\rangle  |^2$ are calculated directly via the [`ComputeUncompute`](https://qiskit.org/documentation/stubs/qiskit.algorithms.state_fidelities.ComputeUncompute.html) algorithm, that leverages a `Sampler` primitive to sample the probability of obtaining $|0\\rangle$ for the circuit\n",
    "$U_A^\\dagger(\\vec{\\theta})U_A(\\vec{\\theta^j})$. This works precisely because this probability is\n",
    "\n",
    "$$\n",
    "\\begin{aligned}\n",
    "\n",
    "p_0\n",
    "\n",
    "& = |\\langle 0|U_A^\\dagger(\\vec{\\theta})U_A(\\vec{\\theta^j})|0\\rangle|^2 \\\\[1mm]\n",
    "\n",
    "& = |\\big(\\langle 0|U_A^\\dagger(\\vec{\\theta})\\big)\\big(U_A(\\vec{\\theta^j})|0\\rangle\\big)|^2 \\\\[1mm]\n",
    "\n",
    "& = |\\langle \\psi(\\vec{\\theta}) |\\psi(\\vec{\\theta^j}) \\rangle|^2 \\\\[1mm]\n",
    "\n",
    "\\end{aligned}\n",
    "$$\n",
    "\n",
    "\n",
    "Finally, to try out a new optimizer, let us use [`COBYLA`](https://qiskit.org/documentation/stubs/qiskit.algorithms.optimizers.COBYLA.html) instead instead of `SLSQP`."
   ]
  },
  {
   "cell_type": "code",
   "execution_count": null,
   "metadata": {},
   "outputs": [],
   "source": [
    "from qiskit.primitives import Sampler\n",
    "from qiskit.algorithms.optimizers import COBYLA\n",
    "from qiskit.algorithms.state_fidelities import ComputeUncompute\n",
    "from qiskit.algorithms.eigensolvers import VQD\n",
    "\n",
    "optimizer = COBYLA()\n",
    "sampler = Sampler()\n",
    "fidelity = ComputeUncompute(sampler)\n",
    "\n",
    "k = 4\n",
    "betas = [40, 60, 30, 30]\n",
    "\n",
    "vqd = VQD(estimator, fidelity, ansatz, optimizer, k=k, betas=betas)"
   ]
  },
  {
   "attachments": {},
   "cell_type": "markdown",
   "metadata": {},
   "source": [
    "As the only API difference from the previous examples, notice that instead of calling the `VQE.compute_minimum_eigenvalue` method, we will call [`VQD.compute_eigenvalues`](https://qiskit.org/documentation/stubs/qiskit.algorithms.eigensolvers.VQD.compute_eigenvalues.html).\n",
    "\n",
    "This time we will examine first the second observable, $\\hat{O}_2 := 2 II - 3 XX + 2 YY - 4 ZZ$. The reasoning behind this will become apparent later."
   ]
  },
  {
   "cell_type": "code",
   "execution_count": null,
   "metadata": {},
   "outputs": [],
   "source": [
    "result = vqd.compute_eigenvalues(observable_2)\n",
    "print(result)"
   ]
  },
  {
   "cell_type": "markdown",
   "metadata": {},
   "source": [
    "The [VQDResult](https://qiskit.org/documentation/stubs/qiskit.algorithms.eigensolvers.VQDResult.html) we obtain is completely analogous to the `VQEResult`. It only differs in that each attribute is a list whose $i$-th element corresponds to the $i$-th eigenvalue."
   ]
  },
  {
   "cell_type": "markdown",
   "metadata": {},
   "source": [
    "Now that we have seen the eigenvalues, let us compare the experimental eigenvectors with the theoretical ones:"
   ]
  },
  {
   "cell_type": "code",
   "execution_count": null,
   "metadata": {},
   "outputs": [],
   "source": [
    "optimal_circuits = [\n",
    "    circuit.bind_parameters(parameters)\n",
    "    for circuit, parameters in zip(result.optimal_circuits, result.optimal_parameters)\n",
    "]\n",
    "eigenstates = [Statevector.from_instruction(c) for c in optimal_circuits]\n",
    "\n",
    "for i, (eigenvalue, eigenstate) in enumerate(zip(result.eigenvalues, eigenstates)):\n",
    "    eigenvalue = eigenvalue.real\n",
    "    eigenstate = np.round(eigenstate.data, 3).tolist()\n",
    "    print(f\"RESULT {i}:\")\n",
    "    print(f\"  - {eigenvalue = :.3f}\")\n",
    "    print(f\"  - {eigenstate = }\")"
   ]
  },
  {
   "cell_type": "markdown",
   "metadata": {},
   "source": [
    "These results are the same as the expected ones except from a small approximation error and global phase."
   ]
  },
  {
   "attachments": {},
   "cell_type": "markdown",
   "metadata": {},
   "source": [
    "Now let us solve this problem for the first observable $\\hat{O}_1 := 2 II - 2 XX + 3 YY - 3 ZZ$."
   ]
  },
  {
   "cell_type": "code",
   "execution_count": null,
   "metadata": {},
   "outputs": [],
   "source": [
    "result = vqd.compute_eigenvalues(observable_1)\n",
    "\n",
    "## PRINT\n",
    "optimal_circuits = [\n",
    "    circuit.bind_parameters(parameters)\n",
    "    for circuit, parameters in zip(result.optimal_circuits, result.optimal_parameters)\n",
    "]\n",
    "eigenstates = [Statevector.from_instruction(c) for c in optimal_circuits]\n",
    "\n",
    "for i, (eigenvalue, eigenstate) in enumerate(zip(result.eigenvalues, eigenstates)):\n",
    "    eigenvalue = eigenvalue.real\n",
    "    eigenstate = np.round(eigenstate.data, 3).tolist()\n",
    "    print(f\"RESULT {i}:\")\n",
    "    print(f\"  - {eigenvalue = :.3f}\")\n",
    "    print(f\"  - {eigenstate = }\")"
   ]
  },
  {
   "attachments": {},
   "cell_type": "markdown",
   "metadata": {},
   "source": [
    "Here the eigenstates corresponding to $\\lambda_1 = \\lambda_2 = 4$ are not the same as the expected ones: $|\\phi_1\\rangle = \\frac{1}{\\sqrt{2}}(|00\\rangle - |11\\rangle)$ and $|\\phi_2\\rangle = \\frac{1}{\\sqrt{2}}(|01\\rangle + |10\\rangle)$. This happens precisely because as $\\lambda_1=\\lambda_2$, any complex linear combination of those $\\alpha_1 |\\phi_1\\rangle + \\alpha_2 |\\phi_2\\rangle = \\frac{1}{\\sqrt{2}}(\\alpha_1 |00\\rangle + \\alpha_2 |01\\rangle - \\alpha_2 |10\\rangle - \\alpha_1 |11\\rangle)\\equiv \\frac{1}{\\sqrt{2}}[\\alpha_1, \\alpha_2, -\\alpha_2, -\\alpha_1]$ is also a eigenstate with the same eigenvalue. That is exactly what we are seeing with these results."
   ]
  },
  {
   "cell_type": "markdown",
   "metadata": {},
   "source": [
    "## Change betas"
   ]
  },
  {
   "attachments": {},
   "cell_type": "markdown",
   "metadata": {},
   "source": [
    "As mentioned in the instances chapter, the values of $\\vec{\\beta}$ should be bigger than the difference between eigenvalues. Let us see what happens when they do not satisfy that condition with $\\hat{O}_2$\n",
    "\n",
    "$$\n",
    "\\hat{O}_2 = 2 II - 3 XX + 2 YY - 4 ZZ ,\n",
    "$$\n",
    "\n",
    "with eigenvalues\n",
    "\n",
    "$$\n",
    "\\left\\{\n",
    "\\begin{array}{c}\n",
    "\\lambda_0 = -7 \\\\\n",
    "\\lambda_1 = 3\\\\\n",
    "\\lambda_2 = 5 \\\\\n",
    "\\lambda_3 = 7\n",
    "\\end{array}\n",
    "\\right\\}\n",
    "$$"
   ]
  },
  {
   "cell_type": "code",
   "execution_count": null,
   "metadata": {},
   "outputs": [],
   "source": [
    "observable_2 = SparsePauliOp.from_list([\n",
    "    (\"II\", 2),\n",
    "    (\"XX\", -3),\n",
    "    (\"YY\", 2),\n",
    "    (\"ZZ\", -4)\n",
    "])\n",
    "\n",
    "vqd.betas = np.ones(4)\n",
    "result = vqd.compute_eigenvalues(observable_2)\n",
    "\n",
    "## PRINT\n",
    "optimal_circuits = [\n",
    "    circuit.bind_parameters(parameters)\n",
    "    for circuit, parameters in zip(result.optimal_circuits, result.optimal_parameters)\n",
    "]\n",
    "eigenstates = [Statevector.from_instruction(c) for c in optimal_circuits]\n",
    "\n",
    "for i, (eigenvalue, eigenstate) in enumerate(zip(result.eigenvalues, eigenstates)):\n",
    "    eigenvalue = eigenvalue.real\n",
    "    eigenstate = np.round(eigenstate.data, 3).tolist()\n",
    "    print(f\"RESULT {i}:\")\n",
    "    print(f\"  - {eigenvalue = :.3f}\")\n",
    "    print(f\"  - {eigenstate = }\")"
   ]
  },
  {
   "attachments": {},
   "cell_type": "markdown",
   "metadata": {},
   "source": [
    "This time, the optimizer returns the same state $|\\phi_0\\rangle = \\frac{1}{\\sqrt{2}}(|00\\rangle + |11\\rangle)$ as a proposed solution to all eigenstates: which is clearly wrong. This happens because the betas were too small to penalize the minimum eigenstate in the successive cost functions; therefore, it was not excluded from the effective search space in later iterations of the algorithm, and always chosen as the best possible solution."
   ]
  },
  {
   "attachments": {},
   "cell_type": "markdown",
   "metadata": {},
   "source": [
    "With this lesson, you have learned how to apply a variational algorithm to find minimum eigenvalues and eigenstate. Proceed to the final lesson to take your assessment and earn your badge!"
   ]
  }
 ],
 "metadata": {
  "kernelspec": {
   "display_name": "Python 3",
   "language": "python",
   "name": "python3"
  },
  "language_info": {
   "codemirror_mode": {
    "name": "ipython",
    "version": 3
   },
   "file_extension": ".py",
   "mimetype": "text/x-python",
   "name": "python",
   "nbconvert_exporter": "python",
   "pygments_lexer": "ipython3",
   "version": "3.9"
  }
 },
 "nbformat": 4,
 "nbformat_minor": 2
}
